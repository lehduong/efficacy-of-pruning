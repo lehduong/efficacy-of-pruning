{
 "cells": [
  {
   "cell_type": "code",
   "execution_count": 1,
   "metadata": {},
   "outputs": [
    {
     "name": "stdout",
     "output_type": "stream",
     "text": [
      "Change dir from /root/code/gate-decorator-pruning/run/resnet-56 to /root/code/gate-decorator-pruning\n",
      "Parsing config file...\n",
      "** Assert in demo mode. **\n"
     ]
    },
    {
     "name": "stderr",
     "output_type": "stream",
     "text": [
      "usage: ipykernel_launcher.py [-h] [--config CONFIG]\n",
      "ipykernel_launcher.py: error: unrecognized arguments: -f /root/.local/share/jupyter/runtime/kernel-0acf1a87-3a67-4d80-98d4-b9647e51a0b1.json\n"
     ]
    }
   ],
   "source": [
    "''' setting before run. every notebook should include this code. '''\n",
    "import os\n",
    "os.environ[\"CUDA_DEVICE_ORDER\"]=\"PCI_BUS_ID\"\n",
    "os.environ[\"CUDA_VISIBLE_DEVICES\"]=\"0\"\n",
    "\n",
    "import sys\n",
    "\n",
    "_r = os.getcwd().split('/')\n",
    "_p = '/'.join(_r[:_r.index('gate-decorator-pruning')+1])\n",
    "print('Change dir from %s to %s' % (os.getcwd(), _p))\n",
    "os.chdir(_p)\n",
    "sys.path.append(_p)\n",
    "\n",
    "from config import parse_from_dict\n",
    "parse_from_dict({\n",
    "    \"base\": {\n",
    "        \"task_name\": \"resnet56_cifar10_ticktock\",\n",
    "        \"cuda\": True,\n",
    "        \"seed\": 0,\n",
    "        \"checkpoint_path\": \"\",\n",
    "        \"epoch\": 0,\n",
    "        \"multi_gpus\": True,\n",
    "        \"fp16\": False\n",
    "    },\n",
    "    \"model\": {\n",
    "        \"name\": \"cifar.resnet56\",\n",
    "        \"num_class\": 10,\n",
    "        \"pretrained\": False\n",
    "    },\n",
    "    \"train\": {\n",
    "        \"trainer\": \"normal\",\n",
    "        \"max_epoch\": 160,\n",
    "        \"optim\": \"sgd\",\n",
    "        \"steplr\": [\n",
    "            [80, 0.1],\n",
    "            [120, 0.01],\n",
    "            [160, 0.001]\n",
    "        ],\n",
    "        \"weight_decay\": 5e-4,\n",
    "        \"momentum\": 0.9,\n",
    "        \"nesterov\": False\n",
    "    },\n",
    "    \"data\": {\n",
    "        \"type\": \"cifar10\",\n",
    "        \"shuffle\": True,\n",
    "        \"batch_size\": 128,\n",
    "        \"test_batch_size\": 128,\n",
    "        \"num_workers\": 4\n",
    "    },\n",
    "    \"loss\": {\n",
    "        \"criterion\": \"softmax\"\n",
    "    },\n",
    "    \"gbn\": {\n",
    "        \"sparse_lambda\": 1e-3,\n",
    "        \"flops_eta\": 0,\n",
    "        \"lr_min\": 1e-3,\n",
    "        \"lr_max\": 1e-2,\n",
    "        \"tock_epoch\": 10,\n",
    "        \"T\": 10,\n",
    "        \"p\": 0.002\n",
    "    }\n",
    "})\n",
    "from config import cfg"
   ]
  },
  {
   "cell_type": "code",
   "execution_count": 2,
   "metadata": {},
   "outputs": [],
   "source": [
    "import torch\n",
    "import torch.nn as nn\n",
    "import numpy as np\n",
    "import torch.optim as optim\n",
    "\n",
    "from logger import logger\n",
    "from main import set_seeds, recover_pack, adjust_learning_rate, _step_lr, _sgdr\n",
    "from models import get_model\n",
    "from utils import dotdict\n",
    "\n",
    "from prune.universal import Meltable, GatedBatchNorm2d, Conv2dObserver, IterRecoverFramework, FinalLinearObserver\n",
    "from prune.utils import analyse_model, finetune"
   ]
  },
  {
   "cell_type": "code",
   "execution_count": 3,
   "metadata": {},
   "outputs": [
    {
     "name": "stdout",
     "output_type": "stream",
     "text": [
      "==> Preparing Cifar10 data..\n",
      "Files already downloaded and verified\n",
      "Files already downloaded and verified\n"
     ]
    },
    {
     "name": "stderr",
     "output_type": "stream",
     "text": [
      "/root/code/gate-decorator-pruning/models/cifar/resnet56.py:34: UserWarning: nn.init.kaiming_normal is now deprecated in favor of nn.init.kaiming_normal_.\n",
      "  init.kaiming_normal(m.weight)\n"
     ]
    }
   ],
   "source": [
    "set_seeds()\n",
    "pack = recover_pack()\n",
    "\n",
    "model_dict = torch.load('./ckps/resnet56_cifair10_baseline.ckp', map_location='cpu' if not cfg.base.cuda else 'cuda')\n",
    "pack.net.module.load_state_dict(model_dict)"
   ]
  },
  {
   "cell_type": "code",
   "execution_count": 4,
   "metadata": {},
   "outputs": [],
   "source": [
    "GBNs = GatedBatchNorm2d.transform(pack.net)\n",
    "for gbn in GBNs:\n",
    "    gbn.extract_from_bn()"
   ]
  },
  {
   "cell_type": "code",
   "execution_count": 5,
   "metadata": {},
   "outputs": [],
   "source": [
    "pack.optimizer = optim.SGD(\n",
    "    pack.net.parameters() ,\n",
    "    lr=2e-3,\n",
    "    momentum=cfg.train.momentum,\n",
    "    weight_decay=cfg.train.weight_decay,\n",
    "    nesterov=cfg.train.nesterov\n",
    ")"
   ]
  },
  {
   "cell_type": "markdown",
   "metadata": {},
   "source": [
    "----"
   ]
  },
  {
   "cell_type": "code",
   "execution_count": 6,
   "metadata": {},
   "outputs": [],
   "source": [
    "import uuid\n",
    "\n",
    "def bottleneck_set_group(net):\n",
    "    layers = [\n",
    "        net.module.layer1,\n",
    "        net.module.layer2,\n",
    "        net.module.layer3\n",
    "    ]\n",
    "    for m in layers:\n",
    "        masks = []\n",
    "        if m == net.module.layer1:\n",
    "            masks.append(pack.net.module.bn1)\n",
    "        for mm in m.modules():\n",
    "            if mm.__class__.__name__ == 'BasicBlock':\n",
    "                if len(mm.shortcut._modules) > 0:\n",
    "                    masks.append(mm.shortcut._modules['1'])\n",
    "                masks.append(mm.bn2)\n",
    "\n",
    "        group_id = uuid.uuid1()\n",
    "        for mk in masks:\n",
    "            mk.set_groupid(group_id)\n",
    "\n",
    "bottleneck_set_group(pack.net)"
   ]
  },
  {
   "cell_type": "code",
   "execution_count": 7,
   "metadata": {},
   "outputs": [],
   "source": [
    "def clone_model(net):\n",
    "    model = get_model()\n",
    "    gbns = GatedBatchNorm2d.transform(model.module)\n",
    "    model.load_state_dict(net.state_dict())\n",
    "    return model, gbns"
   ]
  },
  {
   "cell_type": "code",
   "execution_count": 8,
   "metadata": {},
   "outputs": [
    {
     "name": "stdout",
     "output_type": "stream",
     "text": [
      "127.932 MFLOPS\n",
      "0.856 M\n"
     ]
    }
   ],
   "source": [
    "cloned, _ = clone_model(pack.net)\n",
    "BASE_FLOPS, BASE_PARAM = analyse_model(cloned.module, torch.randn(1, 3, 32, 32).cuda())\n",
    "print('%.3f MFLOPS' % (BASE_FLOPS / 1e6))\n",
    "print('%.3f M' % (BASE_PARAM / 1e6))\n",
    "del cloned"
   ]
  },
  {
   "cell_type": "code",
   "execution_count": 9,
   "metadata": {},
   "outputs": [],
   "source": [
    "def eval_prune(pack):\n",
    "    cloned, _ = clone_model(pack.net)\n",
    "    _ = Conv2dObserver.transform(cloned.module)\n",
    "    cloned.module.linear = FinalLinearObserver(cloned.module.linear)\n",
    "    cloned_pack = dotdict(pack.copy())\n",
    "    cloned_pack.net = cloned\n",
    "    Meltable.observe(cloned_pack, 0.001)\n",
    "    Meltable.melt_all(cloned_pack.net)\n",
    "    flops, params = analyse_model(cloned_pack.net.module, torch.randn(1, 3, 32, 32).cuda())\n",
    "    del cloned\n",
    "    del cloned_pack\n",
    "    \n",
    "    return flops, params"
   ]
  },
  {
   "cell_type": "markdown",
   "metadata": {},
   "source": [
    "----"
   ]
  },
  {
   "cell_type": "code",
   "execution_count": 10,
   "metadata": {},
   "outputs": [
    {
     "data": {
      "text/plain": [
       "{'test_loss': 0.3125093273252626, 'acc@1': 92.92919303797468}"
      ]
     },
     "execution_count": 10,
     "metadata": {},
     "output_type": "execute_result"
    }
   ],
   "source": [
    "pack.trainer.test(pack)"
   ]
  },
  {
   "cell_type": "code",
   "execution_count": 11,
   "metadata": {},
   "outputs": [],
   "source": [
    "pack.tick_trainset = pack.train_loader\n",
    "prune_agent = IterRecoverFramework(pack, GBNs, sparse_lambda = cfg.gbn.sparse_lambda, flops_eta = cfg.gbn.flops_eta, minium_filter = 3)"
   ]
  },
  {
   "cell_type": "code",
   "execution_count": 12,
   "metadata": {},
   "outputs": [
    {
     "name": "stderr",
     "output_type": "stream",
     "text": [
      "100%|█████████████████████████████████████████████████████████████| 391/391 [00:33<00:00, 11.69it/s]\n",
      "  0%|                                                                       | 0/391 [00:00<?, ?it/s]"
     ]
    },
    {
     "name": "stdout",
     "output_type": "stream",
     "text": [
      "Tock - 0,\t Test Loss: 0.2915,\t Test Acc: 93.12, Final LR: 0.00280\n"
     ]
    },
    {
     "name": "stderr",
     "output_type": "stream",
     "text": [
      "100%|█████████████████████████████████████████████████████████████| 391/391 [00:28<00:00, 13.93it/s]\n",
      "  0%|                                                                       | 0/391 [00:00<?, ?it/s]"
     ]
    },
    {
     "name": "stdout",
     "output_type": "stream",
     "text": [
      "Tock - 1,\t Test Loss: 0.3177,\t Test Acc: 92.15, Final LR: 0.00460\n"
     ]
    },
    {
     "name": "stderr",
     "output_type": "stream",
     "text": [
      "100%|█████████████████████████████████████████████████████████████| 391/391 [00:32<00:00, 12.05it/s]\n",
      "  0%|                                                                       | 0/391 [00:00<?, ?it/s]"
     ]
    },
    {
     "name": "stdout",
     "output_type": "stream",
     "text": [
      "Tock - 2,\t Test Loss: 0.3799,\t Test Acc: 90.10, Final LR: 0.00640\n"
     ]
    },
    {
     "name": "stderr",
     "output_type": "stream",
     "text": [
      "100%|█████████████████████████████████████████████████████████████| 391/391 [00:32<00:00, 11.87it/s]\n",
      "  0%|                                                                       | 0/391 [00:00<?, ?it/s]"
     ]
    },
    {
     "name": "stdout",
     "output_type": "stream",
     "text": [
      "Tock - 3,\t Test Loss: 0.3592,\t Test Acc: 89.55, Final LR: 0.00820\n"
     ]
    },
    {
     "name": "stderr",
     "output_type": "stream",
     "text": [
      "100%|█████████████████████████████████████████████████████████████| 391/391 [00:30<00:00, 12.87it/s]\n",
      "  0%|                                                                       | 0/391 [00:00<?, ?it/s]"
     ]
    },
    {
     "name": "stdout",
     "output_type": "stream",
     "text": [
      "Tock - 4,\t Test Loss: 0.4315,\t Test Acc: 87.37, Final LR: 0.01000\n"
     ]
    },
    {
     "name": "stderr",
     "output_type": "stream",
     "text": [
      "100%|█████████████████████████████████████████████████████████████| 391/391 [00:28<00:00, 13.74it/s]\n",
      "  0%|                                                                       | 0/391 [00:00<?, ?it/s]"
     ]
    },
    {
     "name": "stdout",
     "output_type": "stream",
     "text": [
      "Tock - 5,\t Test Loss: 0.3351,\t Test Acc: 89.59, Final LR: 0.00820\n"
     ]
    },
    {
     "name": "stderr",
     "output_type": "stream",
     "text": [
      "100%|█████████████████████████████████████████████████████████████| 391/391 [00:30<00:00, 12.89it/s]\n",
      "  0%|                                                                       | 0/391 [00:00<?, ?it/s]"
     ]
    },
    {
     "name": "stdout",
     "output_type": "stream",
     "text": [
      "Tock - 6,\t Test Loss: 0.3392,\t Test Acc: 89.85, Final LR: 0.00640\n"
     ]
    },
    {
     "name": "stderr",
     "output_type": "stream",
     "text": [
      "100%|█████████████████████████████████████████████████████████████| 391/391 [00:33<00:00, 11.59it/s]\n",
      "  0%|                                                                       | 0/391 [00:00<?, ?it/s]"
     ]
    },
    {
     "name": "stdout",
     "output_type": "stream",
     "text": [
      "Tock - 7,\t Test Loss: 0.3325,\t Test Acc: 90.08, Final LR: 0.00460\n"
     ]
    },
    {
     "name": "stderr",
     "output_type": "stream",
     "text": [
      "100%|█████████████████████████████████████████████████████████████| 391/391 [00:32<00:00, 12.12it/s]\n",
      "  0%|                                                                       | 0/391 [00:00<?, ?it/s]"
     ]
    },
    {
     "name": "stdout",
     "output_type": "stream",
     "text": [
      "Tock - 8,\t Test Loss: 0.3166,\t Test Acc: 90.96, Final LR: 0.00280\n"
     ]
    },
    {
     "name": "stderr",
     "output_type": "stream",
     "text": [
      "100%|█████████████████████████████████████████████████████████████| 391/391 [00:32<00:00, 11.94it/s]\n",
      "  0%|                                                                       | 0/391 [00:00<?, ?it/s]"
     ]
    },
    {
     "name": "stdout",
     "output_type": "stream",
     "text": [
      "Tock - 9,\t Test Loss: 0.2432,\t Test Acc: 93.05, Final LR: 0.00100\n"
     ]
    },
    {
     "name": "stderr",
     "output_type": "stream",
     "text": [
      "100%|█████████████████████████████████████████████████████████████| 391/391 [00:28<00:00, 13.55it/s]\n",
      "  0%|                                                                       | 0/391 [00:00<?, ?it/s]"
     ]
    },
    {
     "name": "stdout",
     "output_type": "stream",
     "text": [
      "Iter: 0,\t FLOPS: [93.67%] 119.830 MFLOPS,\t Param: [96.66%] 0.827 M,\t Left: 2087,\t Pruned Ratio: 2.16 %,\t Train Loss: 0.0255,\t Test Acc: 93.25\n"
     ]
    },
    {
     "name": "stderr",
     "output_type": "stream",
     "text": [
      "100%|█████████████████████████████████████████████████████████████| 391/391 [00:29<00:00, 13.43it/s]\n",
      "  0%|                                                                       | 0/391 [00:00<?, ?it/s]"
     ]
    },
    {
     "name": "stdout",
     "output_type": "stream",
     "text": [
      "Iter: 1,\t FLOPS: [89.95%] 115.074 MFLOPS,\t Param: [93.89%] 0.803 M,\t Left: 2053,\t Pruned Ratio: 3.76 %,\t Train Loss: 0.0247,\t Test Acc: 93.17\n"
     ]
    },
    {
     "name": "stderr",
     "output_type": "stream",
     "text": [
      "100%|█████████████████████████████████████████████████████████████| 391/391 [00:23<00:00, 16.87it/s]\n",
      "  0%|                                                                       | 0/391 [00:00<?, ?it/s]"
     ]
    },
    {
     "name": "stdout",
     "output_type": "stream",
     "text": [
      "Iter: 2,\t FLOPS: [88.97%] 113.825 MFLOPS,\t Param: [93.35%] 0.799 M,\t Left: 2046,\t Pruned Ratio: 4.09 %,\t Train Loss: 0.0238,\t Test Acc: 93.35\n"
     ]
    },
    {
     "name": "stderr",
     "output_type": "stream",
     "text": [
      "100%|█████████████████████████████████████████████████████████████| 391/391 [00:28<00:00, 13.73it/s]\n",
      "  0%|                                                                       | 0/391 [00:00<?, ?it/s]"
     ]
    },
    {
     "name": "stdout",
     "output_type": "stream",
     "text": [
      "Iter: 3,\t FLOPS: [88.13%] 112.747 MFLOPS,\t Param: [92.86%] 0.795 M,\t Left: 2039,\t Pruned Ratio: 4.42 %,\t Train Loss: 0.0227,\t Test Acc: 93.12\n"
     ]
    },
    {
     "name": "stderr",
     "output_type": "stream",
     "text": [
      "100%|█████████████████████████████████████████████████████████████| 391/391 [00:28<00:00, 13.68it/s]\n",
      "  0%|                                                                       | 0/391 [00:00<?, ?it/s]"
     ]
    },
    {
     "name": "stdout",
     "output_type": "stream",
     "text": [
      "Iter: 4,\t FLOPS: [87.45%] 111.873 MFLOPS,\t Param: [92.39%] 0.791 M,\t Left: 2033,\t Pruned Ratio: 4.70 %,\t Train Loss: 0.0227,\t Test Acc: 93.10\n"
     ]
    },
    {
     "name": "stderr",
     "output_type": "stream",
     "text": [
      "100%|█████████████████████████████████████████████████████████████| 391/391 [00:29<00:00, 13.11it/s]\n",
      "  0%|                                                                       | 0/391 [00:00<?, ?it/s]"
     ]
    },
    {
     "name": "stdout",
     "output_type": "stream",
     "text": [
      "Iter: 5,\t FLOPS: [86.81%] 111.056 MFLOPS,\t Param: [91.92%] 0.787 M,\t Left: 2027,\t Pruned Ratio: 4.98 %,\t Train Loss: 0.0225,\t Test Acc: 93.08\n"
     ]
    },
    {
     "name": "stderr",
     "output_type": "stream",
     "text": [
      "100%|█████████████████████████████████████████████████████████████| 391/391 [00:28<00:00, 13.95it/s]\n",
      "  0%|                                                                       | 0/391 [00:00<?, ?it/s]"
     ]
    },
    {
     "name": "stdout",
     "output_type": "stream",
     "text": [
      "Iter: 6,\t FLOPS: [86.23%] 110.314 MFLOPS,\t Param: [91.38%] 0.782 M,\t Left: 2021,\t Pruned Ratio: 5.26 %,\t Train Loss: 0.0218,\t Test Acc: 93.01\n"
     ]
    },
    {
     "name": "stderr",
     "output_type": "stream",
     "text": [
      "100%|█████████████████████████████████████████████████████████████| 391/391 [00:28<00:00, 13.56it/s]\n",
      "  0%|                                                                       | 0/391 [00:00<?, ?it/s]"
     ]
    },
    {
     "name": "stdout",
     "output_type": "stream",
     "text": [
      "Iter: 7,\t FLOPS: [85.53%] 109.420 MFLOPS,\t Param: [90.97%] 0.778 M,\t Left: 2016,\t Pruned Ratio: 5.50 %,\t Train Loss: 0.0212,\t Test Acc: 92.90\n"
     ]
    },
    {
     "name": "stderr",
     "output_type": "stream",
     "text": [
      "100%|█████████████████████████████████████████████████████████████| 391/391 [00:29<00:00, 13.28it/s]\n",
      "  0%|                                                                       | 0/391 [00:00<?, ?it/s]"
     ]
    },
    {
     "name": "stdout",
     "output_type": "stream",
     "text": [
      "Iter: 8,\t FLOPS: [84.77%] 108.451 MFLOPS,\t Param: [90.63%] 0.776 M,\t Left: 2011,\t Pruned Ratio: 5.73 %,\t Train Loss: 0.0213,\t Test Acc: 93.12\n"
     ]
    },
    {
     "name": "stderr",
     "output_type": "stream",
     "text": [
      "100%|█████████████████████████████████████████████████████████████| 391/391 [00:28<00:00, 13.49it/s]\n",
      "  0%|                                                                       | 0/391 [00:00<?, ?it/s]"
     ]
    },
    {
     "name": "stdout",
     "output_type": "stream",
     "text": [
      "Iter: 9,\t FLOPS: [84.19%] 107.707 MFLOPS,\t Param: [90.19%] 0.772 M,\t Left: 2006,\t Pruned Ratio: 5.97 %,\t Train Loss: 0.0220,\t Test Acc: 93.15\n",
      "Tocking:\n"
     ]
    },
    {
     "name": "stderr",
     "output_type": "stream",
     "text": [
      "100%|█████████████████████████████████████████████████████████████| 391/391 [00:31<00:00, 12.23it/s]\n",
      "  0%|                                                                       | 0/391 [00:00<?, ?it/s]"
     ]
    },
    {
     "name": "stdout",
     "output_type": "stream",
     "text": [
      "Tock - 0,\t Test Loss: 0.3013,\t Test Acc: 92.14, Final LR: 0.00280\n"
     ]
    },
    {
     "name": "stderr",
     "output_type": "stream",
     "text": [
      "100%|█████████████████████████████████████████████████████████████| 391/391 [00:32<00:00, 11.91it/s]\n",
      "  0%|                                                                       | 0/391 [00:00<?, ?it/s]"
     ]
    },
    {
     "name": "stdout",
     "output_type": "stream",
     "text": [
      "Tock - 1,\t Test Loss: 0.3435,\t Test Acc: 89.93, Final LR: 0.00460\n"
     ]
    },
    {
     "name": "stderr",
     "output_type": "stream",
     "text": [
      "100%|█████████████████████████████████████████████████████████████| 391/391 [00:32<00:00, 12.06it/s]\n",
      "  0%|                                                                       | 0/391 [00:00<?, ?it/s]"
     ]
    },
    {
     "name": "stdout",
     "output_type": "stream",
     "text": [
      "Tock - 2,\t Test Loss: 0.4138,\t Test Acc: 87.72, Final LR: 0.00640\n"
     ]
    },
    {
     "name": "stderr",
     "output_type": "stream",
     "text": [
      "100%|█████████████████████████████████████████████████████████████| 391/391 [00:28<00:00, 13.50it/s]\n",
      "  0%|                                                                       | 0/391 [00:00<?, ?it/s]"
     ]
    },
    {
     "name": "stdout",
     "output_type": "stream",
     "text": [
      "Tock - 3,\t Test Loss: 0.3622,\t Test Acc: 89.04, Final LR: 0.00820\n"
     ]
    },
    {
     "name": "stderr",
     "output_type": "stream",
     "text": [
      "100%|█████████████████████████████████████████████████████████████| 391/391 [00:32<00:00, 12.15it/s]\n",
      "  0%|                                                                       | 0/391 [00:00<?, ?it/s]"
     ]
    },
    {
     "name": "stdout",
     "output_type": "stream",
     "text": [
      "Tock - 4,\t Test Loss: 0.5570,\t Test Acc: 83.28, Final LR: 0.01000\n"
     ]
    },
    {
     "name": "stderr",
     "output_type": "stream",
     "text": [
      "100%|█████████████████████████████████████████████████████████████| 391/391 [00:28<00:00, 13.76it/s]\n",
      "  0%|                                                                       | 0/391 [00:00<?, ?it/s]"
     ]
    },
    {
     "name": "stdout",
     "output_type": "stream",
     "text": [
      "Tock - 5,\t Test Loss: 0.4387,\t Test Acc: 86.59, Final LR: 0.00820\n"
     ]
    },
    {
     "name": "stderr",
     "output_type": "stream",
     "text": [
      "100%|█████████████████████████████████████████████████████████████| 391/391 [00:32<00:00, 11.96it/s]\n",
      "  0%|                                                                       | 0/391 [00:00<?, ?it/s]"
     ]
    },
    {
     "name": "stdout",
     "output_type": "stream",
     "text": [
      "Tock - 6,\t Test Loss: 0.3156,\t Test Acc: 90.41, Final LR: 0.00640\n"
     ]
    },
    {
     "name": "stderr",
     "output_type": "stream",
     "text": [
      "100%|█████████████████████████████████████████████████████████████| 391/391 [00:32<00:00, 12.07it/s]\n",
      "  0%|                                                                       | 0/391 [00:00<?, ?it/s]"
     ]
    },
    {
     "name": "stdout",
     "output_type": "stream",
     "text": [
      "Tock - 7,\t Test Loss: 0.2990,\t Test Acc: 90.96, Final LR: 0.00460\n"
     ]
    },
    {
     "name": "stderr",
     "output_type": "stream",
     "text": [
      "100%|█████████████████████████████████████████████████████████████| 391/391 [00:32<00:00, 12.11it/s]\n",
      "  0%|                                                                       | 0/391 [00:00<?, ?it/s]"
     ]
    },
    {
     "name": "stdout",
     "output_type": "stream",
     "text": [
      "Tock - 8,\t Test Loss: 0.2551,\t Test Acc: 92.32, Final LR: 0.00280\n"
     ]
    },
    {
     "name": "stderr",
     "output_type": "stream",
     "text": [
      "100%|█████████████████████████████████████████████████████████████| 391/391 [00:32<00:00, 11.86it/s]\n",
      "  0%|                                                                       | 0/391 [00:00<?, ?it/s]"
     ]
    },
    {
     "name": "stdout",
     "output_type": "stream",
     "text": [
      "Tock - 9,\t Test Loss: 0.2339,\t Test Acc: 93.35, Final LR: 0.00100\n"
     ]
    },
    {
     "name": "stderr",
     "output_type": "stream",
     "text": [
      "100%|█████████████████████████████████████████████████████████████| 391/391 [00:28<00:00, 13.49it/s]\n",
      "  0%|                                                                       | 0/391 [00:00<?, ?it/s]"
     ]
    },
    {
     "name": "stdout",
     "output_type": "stream",
     "text": [
      "Iter: 10,\t FLOPS: [83.49%] 106.812 MFLOPS,\t Param: [89.79%] 0.768 M,\t Left: 2001,\t Pruned Ratio: 6.20 %,\t Train Loss: 0.0301,\t Test Acc: 93.28\n"
     ]
    },
    {
     "name": "stderr",
     "output_type": "stream",
     "text": [
      "100%|█████████████████████████████████████████████████████████████| 391/391 [00:28<00:00, 13.94it/s]\n",
      "  0%|                                                                       | 0/391 [00:00<?, ?it/s]"
     ]
    },
    {
     "name": "stdout",
     "output_type": "stream",
     "text": [
      "Iter: 11,\t FLOPS: [82.85%] 105.993 MFLOPS,\t Param: [89.32%] 0.764 M,\t Left: 1996,\t Pruned Ratio: 6.44 %,\t Train Loss: 0.0268,\t Test Acc: 93.35\n"
     ]
    },
    {
     "name": "stderr",
     "output_type": "stream",
     "text": [
      "100%|█████████████████████████████████████████████████████████████| 391/391 [00:29<00:00, 13.44it/s]\n",
      "  0%|                                                                       | 0/391 [00:00<?, ?it/s]"
     ]
    },
    {
     "name": "stdout",
     "output_type": "stream",
     "text": [
      "Iter: 12,\t FLOPS: [82.39%] 105.397 MFLOPS,\t Param: [88.95%] 0.761 M,\t Left: 1991,\t Pruned Ratio: 6.63 %,\t Train Loss: 0.0258,\t Test Acc: 93.33\n"
     ]
    },
    {
     "name": "stderr",
     "output_type": "stream",
     "text": [
      "100%|█████████████████████████████████████████████████████████████| 391/391 [00:28<00:00, 13.91it/s]\n",
      "  0%|                                                                       | 0/391 [00:00<?, ?it/s]"
     ]
    },
    {
     "name": "stdout",
     "output_type": "stream",
     "text": [
      "Iter: 13,\t FLOPS: [82.04%] 104.952 MFLOPS,\t Param: [88.54%] 0.758 M,\t Left: 1987,\t Pruned Ratio: 6.81 %,\t Train Loss: 0.0254,\t Test Acc: 93.22\n"
     ]
    },
    {
     "name": "stderr",
     "output_type": "stream",
     "text": [
      "100%|█████████████████████████████████████████████████████████████| 391/391 [00:28<00:00, 13.65it/s]\n",
      "  0%|                                                                       | 0/391 [00:00<?, ?it/s]"
     ]
    },
    {
     "name": "stdout",
     "output_type": "stream",
     "text": [
      "Iter: 14,\t FLOPS: [81.69%] 104.507 MFLOPS,\t Param: [88.14%] 0.754 M,\t Left: 1983,\t Pruned Ratio: 7.00 %,\t Train Loss: 0.0240,\t Test Acc: 93.39\n"
     ]
    },
    {
     "name": "stderr",
     "output_type": "stream",
     "text": [
      "100%|█████████████████████████████████████████████████████████████| 391/391 [00:26<00:00, 14.93it/s]\n",
      "  0%|                                                                       | 0/391 [00:00<?, ?it/s]"
     ]
    },
    {
     "name": "stdout",
     "output_type": "stream",
     "text": [
      "Iter: 15,\t FLOPS: [81.46%] 104.211 MFLOPS,\t Param: [87.60%] 0.750 M,\t Left: 1979,\t Pruned Ratio: 7.19 %,\t Train Loss: 0.0252,\t Test Acc: 93.24\n"
     ]
    },
    {
     "name": "stderr",
     "output_type": "stream",
     "text": [
      "100%|█████████████████████████████████████████████████████████████| 391/391 [00:24<00:00, 16.12it/s]\n",
      "  0%|                                                                       | 0/391 [00:00<?, ?it/s]"
     ]
    },
    {
     "name": "stdout",
     "output_type": "stream",
     "text": [
      "Iter: 16,\t FLOPS: [80.93%] 103.541 MFLOPS,\t Param: [87.29%] 0.747 M,\t Left: 1975,\t Pruned Ratio: 7.38 %,\t Train Loss: 0.0233,\t Test Acc: 93.28\n"
     ]
    },
    {
     "name": "stderr",
     "output_type": "stream",
     "text": [
      "100%|█████████████████████████████████████████████████████████████| 391/391 [00:28<00:00, 13.56it/s]\n",
      "  0%|                                                                       | 0/391 [00:00<?, ?it/s]"
     ]
    },
    {
     "name": "stdout",
     "output_type": "stream",
     "text": [
      "Iter: 17,\t FLOPS: [80.53%] 103.020 MFLOPS,\t Param: [86.85%] 0.743 M,\t Left: 1971,\t Pruned Ratio: 7.57 %,\t Train Loss: 0.0251,\t Test Acc: 93.37\n"
     ]
    },
    {
     "name": "stderr",
     "output_type": "stream",
     "text": [
      "100%|█████████████████████████████████████████████████████████████| 391/391 [00:27<00:00, 14.04it/s]\n",
      "  0%|                                                                       | 0/391 [00:00<?, ?it/s]"
     ]
    },
    {
     "name": "stdout",
     "output_type": "stream",
     "text": [
      "Iter: 18,\t FLOPS: [80.00%] 102.350 MFLOPS,\t Param: [86.55%] 0.741 M,\t Left: 1967,\t Pruned Ratio: 7.75 %,\t Train Loss: 0.0247,\t Test Acc: 93.42\n"
     ]
    },
    {
     "name": "stderr",
     "output_type": "stream",
     "text": [
      "100%|█████████████████████████████████████████████████████████████| 391/391 [00:24<00:00, 16.05it/s]\n",
      "  0%|                                                                       | 0/391 [00:00<?, ?it/s]"
     ]
    },
    {
     "name": "stdout",
     "output_type": "stream",
     "text": [
      "Iter: 19,\t FLOPS: [79.66%] 101.905 MFLOPS,\t Param: [86.15%] 0.737 M,\t Left: 1963,\t Pruned Ratio: 7.94 %,\t Train Loss: 0.0241,\t Test Acc: 93.39\n",
      "Tocking:\n"
     ]
    },
    {
     "name": "stderr",
     "output_type": "stream",
     "text": [
      "100%|█████████████████████████████████████████████████████████████| 391/391 [00:32<00:00, 12.11it/s]\n",
      "  0%|                                                                       | 0/391 [00:00<?, ?it/s]"
     ]
    },
    {
     "name": "stdout",
     "output_type": "stream",
     "text": [
      "Tock - 0,\t Test Loss: 0.2989,\t Test Acc: 91.65, Final LR: 0.00280\n"
     ]
    },
    {
     "name": "stderr",
     "output_type": "stream",
     "text": [
      "100%|█████████████████████████████████████████████████████████████| 391/391 [00:31<00:00, 12.33it/s]\n",
      "  0%|                                                                       | 0/391 [00:00<?, ?it/s]"
     ]
    },
    {
     "name": "stdout",
     "output_type": "stream",
     "text": [
      "Tock - 1,\t Test Loss: 0.3747,\t Test Acc: 89.36, Final LR: 0.00460\n"
     ]
    },
    {
     "name": "stderr",
     "output_type": "stream",
     "text": [
      "100%|█████████████████████████████████████████████████████████████| 391/391 [00:32<00:00, 11.99it/s]\n",
      "  0%|                                                                       | 0/391 [00:00<?, ?it/s]"
     ]
    },
    {
     "name": "stdout",
     "output_type": "stream",
     "text": [
      "Tock - 2,\t Test Loss: 0.3897,\t Test Acc: 88.72, Final LR: 0.00640\n"
     ]
    },
    {
     "name": "stderr",
     "output_type": "stream",
     "text": [
      "100%|█████████████████████████████████████████████████████████████| 391/391 [00:32<00:00, 12.05it/s]\n",
      "  0%|                                                                       | 0/391 [00:00<?, ?it/s]"
     ]
    },
    {
     "name": "stdout",
     "output_type": "stream",
     "text": [
      "Tock - 3,\t Test Loss: 0.4234,\t Test Acc: 87.24, Final LR: 0.00820\n"
     ]
    },
    {
     "name": "stderr",
     "output_type": "stream",
     "text": [
      "100%|█████████████████████████████████████████████████████████████| 391/391 [00:33<00:00, 11.79it/s]\n",
      "  0%|                                                                       | 0/391 [00:00<?, ?it/s]"
     ]
    },
    {
     "name": "stdout",
     "output_type": "stream",
     "text": [
      "Tock - 4,\t Test Loss: 0.3978,\t Test Acc: 87.64, Final LR: 0.01000\n"
     ]
    },
    {
     "name": "stderr",
     "output_type": "stream",
     "text": [
      "100%|█████████████████████████████████████████████████████████████| 391/391 [00:32<00:00, 11.91it/s]\n",
      "  0%|                                                                       | 0/391 [00:00<?, ?it/s]"
     ]
    },
    {
     "name": "stdout",
     "output_type": "stream",
     "text": [
      "Tock - 5,\t Test Loss: 0.3387,\t Test Acc: 89.45, Final LR: 0.00820\n"
     ]
    },
    {
     "name": "stderr",
     "output_type": "stream",
     "text": [
      "100%|█████████████████████████████████████████████████████████████| 391/391 [00:32<00:00, 12.09it/s]\n",
      "  0%|                                                                       | 0/391 [00:00<?, ?it/s]"
     ]
    },
    {
     "name": "stdout",
     "output_type": "stream",
     "text": [
      "Tock - 6,\t Test Loss: 0.3318,\t Test Acc: 89.65, Final LR: 0.00640\n"
     ]
    },
    {
     "name": "stderr",
     "output_type": "stream",
     "text": [
      "100%|█████████████████████████████████████████████████████████████| 391/391 [00:32<00:00, 11.99it/s]\n",
      "  0%|                                                                       | 0/391 [00:00<?, ?it/s]"
     ]
    },
    {
     "name": "stdout",
     "output_type": "stream",
     "text": [
      "Tock - 7,\t Test Loss: 0.3161,\t Test Acc: 90.51, Final LR: 0.00460\n"
     ]
    },
    {
     "name": "stderr",
     "output_type": "stream",
     "text": [
      "100%|█████████████████████████████████████████████████████████████| 391/391 [00:32<00:00, 12.13it/s]\n",
      "  0%|                                                                       | 0/391 [00:00<?, ?it/s]"
     ]
    },
    {
     "name": "stdout",
     "output_type": "stream",
     "text": [
      "Tock - 8,\t Test Loss: 0.2617,\t Test Acc: 92.45, Final LR: 0.00280\n"
     ]
    },
    {
     "name": "stderr",
     "output_type": "stream",
     "text": [
      "100%|█████████████████████████████████████████████████████████████| 391/391 [00:28<00:00, 13.83it/s]\n",
      "  0%|                                                                       | 0/391 [00:00<?, ?it/s]"
     ]
    },
    {
     "name": "stdout",
     "output_type": "stream",
     "text": [
      "Tock - 9,\t Test Loss: 0.2389,\t Test Acc: 93.04, Final LR: 0.00100\n"
     ]
    },
    {
     "name": "stderr",
     "output_type": "stream",
     "text": [
      "100%|█████████████████████████████████████████████████████████████| 391/391 [00:28<00:00, 13.50it/s]\n",
      "  0%|                                                                       | 0/391 [00:00<?, ?it/s]"
     ]
    },
    {
     "name": "stdout",
     "output_type": "stream",
     "text": [
      "Iter: 20,\t FLOPS: [78.96%] 101.010 MFLOPS,\t Param: [85.94%] 0.735 M,\t Left: 1959,\t Pruned Ratio: 8.13 %,\t Train Loss: 0.0301,\t Test Acc: 93.30\n"
     ]
    },
    {
     "name": "stderr",
     "output_type": "stream",
     "text": [
      "100%|█████████████████████████████████████████████████████████████| 391/391 [00:29<00:00, 13.38it/s]\n",
      "  0%|                                                                       | 0/391 [00:00<?, ?it/s]"
     ]
    },
    {
     "name": "stdout",
     "output_type": "stream",
     "text": [
      "Iter: 21,\t FLOPS: [78.37%] 100.265 MFLOPS,\t Param: [85.61%] 0.733 M,\t Left: 1955,\t Pruned Ratio: 8.32 %,\t Train Loss: 0.0276,\t Test Acc: 93.36\n"
     ]
    },
    {
     "name": "stderr",
     "output_type": "stream",
     "text": [
      "100%|█████████████████████████████████████████████████████████████| 391/391 [00:25<00:00, 15.45it/s]\n",
      "  0%|                                                                       | 0/391 [00:00<?, ?it/s]"
     ]
    },
    {
     "name": "stdout",
     "output_type": "stream",
     "text": [
      "Iter: 22,\t FLOPS: [77.73%] 99.444 MFLOPS,\t Param: [85.34%] 0.730 M,\t Left: 1951,\t Pruned Ratio: 8.51 %,\t Train Loss: 0.0261,\t Test Acc: 93.48\n"
     ]
    },
    {
     "name": "stderr",
     "output_type": "stream",
     "text": [
      "100%|█████████████████████████████████████████████████████████████| 391/391 [00:28<00:00, 13.79it/s]\n",
      "  0%|                                                                       | 0/391 [00:00<?, ?it/s]"
     ]
    },
    {
     "name": "stdout",
     "output_type": "stream",
     "text": [
      "Iter: 23,\t FLOPS: [77.21%] 98.774 MFLOPS,\t Param: [85.03%] 0.728 M,\t Left: 1947,\t Pruned Ratio: 8.69 %,\t Train Loss: 0.0264,\t Test Acc: 93.31\n"
     ]
    },
    {
     "name": "stderr",
     "output_type": "stream",
     "text": [
      "100%|█████████████████████████████████████████████████████████████| 391/391 [00:28<00:00, 13.68it/s]\n",
      "  0%|                                                                       | 0/391 [00:00<?, ?it/s]"
     ]
    },
    {
     "name": "stdout",
     "output_type": "stream",
     "text": [
      "Iter: 24,\t FLOPS: [76.68%] 98.104 MFLOPS,\t Param: [84.73%] 0.725 M,\t Left: 1943,\t Pruned Ratio: 8.88 %,\t Train Loss: 0.0274,\t Test Acc: 93.33\n"
     ]
    },
    {
     "name": "stderr",
     "output_type": "stream",
     "text": [
      "100%|█████████████████████████████████████████████████████████████| 391/391 [00:28<00:00, 13.62it/s]\n",
      "  0%|                                                                       | 0/391 [00:00<?, ?it/s]"
     ]
    },
    {
     "name": "stdout",
     "output_type": "stream",
     "text": [
      "Iter: 25,\t FLOPS: [75.87%] 97.059 MFLOPS,\t Param: [84.56%] 0.724 M,\t Left: 1939,\t Pruned Ratio: 9.07 %,\t Train Loss: 0.0269,\t Test Acc: 93.41\n"
     ]
    },
    {
     "name": "stderr",
     "output_type": "stream",
     "text": [
      "100%|█████████████████████████████████████████████████████████████| 391/391 [00:28<00:00, 13.53it/s]\n",
      "  0%|                                                                       | 0/391 [00:00<?, ?it/s]"
     ]
    },
    {
     "name": "stdout",
     "output_type": "stream",
     "text": [
      "Iter: 26,\t FLOPS: [75.52%] 96.614 MFLOPS,\t Param: [84.15%] 0.720 M,\t Left: 1935,\t Pruned Ratio: 9.26 %,\t Train Loss: 0.0276,\t Test Acc: 93.30\n"
     ]
    },
    {
     "name": "stderr",
     "output_type": "stream",
     "text": [
      "100%|█████████████████████████████████████████████████████████████| 391/391 [00:24<00:00, 16.28it/s]\n",
      "  0%|                                                                       | 0/391 [00:00<?, ?it/s]"
     ]
    },
    {
     "name": "stdout",
     "output_type": "stream",
     "text": [
      "Iter: 27,\t FLOPS: [75.00%] 95.944 MFLOPS,\t Param: [83.85%] 0.718 M,\t Left: 1931,\t Pruned Ratio: 9.45 %,\t Train Loss: 0.0265,\t Test Acc: 93.42\n"
     ]
    },
    {
     "name": "stderr",
     "output_type": "stream",
     "text": [
      "100%|█████████████████████████████████████████████████████████████| 391/391 [00:28<00:00, 13.73it/s]\n",
      "  0%|                                                                       | 0/391 [00:00<?, ?it/s]"
     ]
    },
    {
     "name": "stdout",
     "output_type": "stream",
     "text": [
      "Iter: 28,\t FLOPS: [74.30%] 95.049 MFLOPS,\t Param: [83.65%] 0.716 M,\t Left: 1927,\t Pruned Ratio: 9.63 %,\t Train Loss: 0.0267,\t Test Acc: 93.39\n"
     ]
    },
    {
     "name": "stderr",
     "output_type": "stream",
     "text": [
      "100%|█████████████████████████████████████████████████████████████| 391/391 [00:28<00:00, 13.73it/s]\n",
      "  0%|                                                                       | 0/391 [00:00<?, ?it/s]"
     ]
    },
    {
     "name": "stdout",
     "output_type": "stream",
     "text": [
      "Iter: 29,\t FLOPS: [73.95%] 94.604 MFLOPS,\t Param: [83.24%] 0.712 M,\t Left: 1923,\t Pruned Ratio: 9.82 %,\t Train Loss: 0.0266,\t Test Acc: 93.49\n",
      "Tocking:\n"
     ]
    },
    {
     "name": "stderr",
     "output_type": "stream",
     "text": [
      "100%|█████████████████████████████████████████████████████████████| 391/391 [00:31<00:00, 12.58it/s]\n",
      "  0%|                                                                       | 0/391 [00:00<?, ?it/s]"
     ]
    },
    {
     "name": "stdout",
     "output_type": "stream",
     "text": [
      "Tock - 0,\t Test Loss: 0.2715,\t Test Acc: 92.67, Final LR: 0.00280\n"
     ]
    },
    {
     "name": "stderr",
     "output_type": "stream",
     "text": [
      "100%|█████████████████████████████████████████████████████████████| 391/391 [00:32<00:00, 11.85it/s]\n",
      "  0%|                                                                       | 0/391 [00:00<?, ?it/s]"
     ]
    },
    {
     "name": "stdout",
     "output_type": "stream",
     "text": [
      "Tock - 1,\t Test Loss: 0.3148,\t Test Acc: 90.82, Final LR: 0.00460\n"
     ]
    },
    {
     "name": "stderr",
     "output_type": "stream",
     "text": [
      "100%|█████████████████████████████████████████████████████████████| 391/391 [00:32<00:00, 12.14it/s]\n",
      "  0%|                                                                       | 0/391 [00:00<?, ?it/s]"
     ]
    },
    {
     "name": "stdout",
     "output_type": "stream",
     "text": [
      "Tock - 2,\t Test Loss: 0.4372,\t Test Acc: 87.71, Final LR: 0.00640\n"
     ]
    },
    {
     "name": "stderr",
     "output_type": "stream",
     "text": [
      "100%|█████████████████████████████████████████████████████████████| 391/391 [00:31<00:00, 12.26it/s]\n",
      "  0%|                                                                       | 0/391 [00:00<?, ?it/s]"
     ]
    },
    {
     "name": "stdout",
     "output_type": "stream",
     "text": [
      "Tock - 3,\t Test Loss: 0.5266,\t Test Acc: 84.21, Final LR: 0.00820\n"
     ]
    },
    {
     "name": "stderr",
     "output_type": "stream",
     "text": [
      "100%|█████████████████████████████████████████████████████████████| 391/391 [00:32<00:00, 12.06it/s]\n",
      "  0%|                                                                       | 0/391 [00:00<?, ?it/s]"
     ]
    },
    {
     "name": "stdout",
     "output_type": "stream",
     "text": [
      "Tock - 4,\t Test Loss: 0.4514,\t Test Acc: 87.05, Final LR: 0.01000\n"
     ]
    },
    {
     "name": "stderr",
     "output_type": "stream",
     "text": [
      "100%|█████████████████████████████████████████████████████████████| 391/391 [00:32<00:00, 12.15it/s]\n",
      "  0%|                                                                       | 0/391 [00:00<?, ?it/s]"
     ]
    },
    {
     "name": "stdout",
     "output_type": "stream",
     "text": [
      "Tock - 5,\t Test Loss: 0.4987,\t Test Acc: 85.65, Final LR: 0.00820\n"
     ]
    },
    {
     "name": "stderr",
     "output_type": "stream",
     "text": [
      "100%|█████████████████████████████████████████████████████████████| 391/391 [00:31<00:00, 12.23it/s]\n",
      "  0%|                                                                       | 0/391 [00:00<?, ?it/s]"
     ]
    },
    {
     "name": "stdout",
     "output_type": "stream",
     "text": [
      "Tock - 6,\t Test Loss: 0.2959,\t Test Acc: 90.46, Final LR: 0.00640\n"
     ]
    },
    {
     "name": "stderr",
     "output_type": "stream",
     "text": [
      "100%|█████████████████████████████████████████████████████████████| 391/391 [00:32<00:00, 12.08it/s]\n",
      "  0%|                                                                       | 0/391 [00:00<?, ?it/s]"
     ]
    },
    {
     "name": "stdout",
     "output_type": "stream",
     "text": [
      "Tock - 7,\t Test Loss: 0.2604,\t Test Acc: 92.14, Final LR: 0.00460\n"
     ]
    },
    {
     "name": "stderr",
     "output_type": "stream",
     "text": [
      "100%|█████████████████████████████████████████████████████████████| 391/391 [00:32<00:00, 12.14it/s]\n",
      "  0%|                                                                       | 0/391 [00:00<?, ?it/s]"
     ]
    },
    {
     "name": "stdout",
     "output_type": "stream",
     "text": [
      "Tock - 8,\t Test Loss: 0.2660,\t Test Acc: 92.30, Final LR: 0.00280\n"
     ]
    },
    {
     "name": "stderr",
     "output_type": "stream",
     "text": [
      "100%|█████████████████████████████████████████████████████████████| 391/391 [00:28<00:00, 13.89it/s]\n",
      "  0%|                                                                       | 0/391 [00:00<?, ?it/s]"
     ]
    },
    {
     "name": "stdout",
     "output_type": "stream",
     "text": [
      "Tock - 9,\t Test Loss: 0.2341,\t Test Acc: 93.25, Final LR: 0.00100\n"
     ]
    },
    {
     "name": "stderr",
     "output_type": "stream",
     "text": [
      "100%|█████████████████████████████████████████████████████████████| 391/391 [00:26<00:00, 14.81it/s]\n",
      "  0%|                                                                       | 0/391 [00:00<?, ?it/s]"
     ]
    },
    {
     "name": "stdout",
     "output_type": "stream",
     "text": [
      "Iter: 30,\t FLOPS: [73.37%] 93.859 MFLOPS,\t Param: [83.01%] 0.710 M,\t Left: 1919,\t Pruned Ratio: 10.01 %,\t Train Loss: 0.0299,\t Test Acc: 93.39\n"
     ]
    },
    {
     "name": "stderr",
     "output_type": "stream",
     "text": [
      "100%|█████████████████████████████████████████████████████████████| 391/391 [00:28<00:00, 13.90it/s]\n",
      "  0%|                                                                       | 0/391 [00:00<?, ?it/s]"
     ]
    },
    {
     "name": "stdout",
     "output_type": "stream",
     "text": [
      "Iter: 31,\t FLOPS: [73.08%] 93.489 MFLOPS,\t Param: [82.53%] 0.706 M,\t Left: 1915,\t Pruned Ratio: 10.20 %,\t Train Loss: 0.0278,\t Test Acc: 93.32\n"
     ]
    },
    {
     "name": "stderr",
     "output_type": "stream",
     "text": [
      "100%|█████████████████████████████████████████████████████████████| 391/391 [00:28<00:00, 13.94it/s]\n",
      "  0%|                                                                       | 0/391 [00:00<?, ?it/s]"
     ]
    },
    {
     "name": "stdout",
     "output_type": "stream",
     "text": [
      "Iter: 32,\t FLOPS: [72.50%] 92.745 MFLOPS,\t Param: [82.30%] 0.704 M,\t Left: 1911,\t Pruned Ratio: 10.39 %,\t Train Loss: 0.0282,\t Test Acc: 93.40\n"
     ]
    },
    {
     "name": "stderr",
     "output_type": "stream",
     "text": [
      "100%|█████████████████████████████████████████████████████████████| 391/391 [00:28<00:00, 13.86it/s]\n",
      "  0%|                                                                       | 0/391 [00:00<?, ?it/s]"
     ]
    },
    {
     "name": "stdout",
     "output_type": "stream",
     "text": [
      "Iter: 33,\t FLOPS: [72.15%] 92.300 MFLOPS,\t Param: [81.89%] 0.701 M,\t Left: 1907,\t Pruned Ratio: 10.57 %,\t Train Loss: 0.0263,\t Test Acc: 93.46\n"
     ]
    },
    {
     "name": "stderr",
     "output_type": "stream",
     "text": [
      "100%|█████████████████████████████████████████████████████████████| 391/391 [00:23<00:00, 16.31it/s]\n",
      "  0%|                                                                       | 0/391 [00:00<?, ?it/s]"
     ]
    },
    {
     "name": "stdout",
     "output_type": "stream",
     "text": [
      "Iter: 34,\t FLOPS: [71.74%] 91.780 MFLOPS,\t Param: [81.55%] 0.698 M,\t Left: 1903,\t Pruned Ratio: 10.76 %,\t Train Loss: 0.0289,\t Test Acc: 93.36\n"
     ]
    },
    {
     "name": "stderr",
     "output_type": "stream",
     "text": [
      "100%|█████████████████████████████████████████████████████████████| 391/391 [00:23<00:00, 16.55it/s]\n",
      "  0%|                                                                       | 0/391 [00:00<?, ?it/s]"
     ]
    },
    {
     "name": "stdout",
     "output_type": "stream",
     "text": [
      "Iter: 35,\t FLOPS: [71.33%] 91.259 MFLOPS,\t Param: [81.12%] 0.694 M,\t Left: 1899,\t Pruned Ratio: 10.95 %,\t Train Loss: 0.0274,\t Test Acc: 93.35\n"
     ]
    },
    {
     "name": "stderr",
     "output_type": "stream",
     "text": [
      "100%|█████████████████████████████████████████████████████████████| 391/391 [00:27<00:00, 14.02it/s]\n",
      "  0%|                                                                       | 0/391 [00:00<?, ?it/s]"
     ]
    },
    {
     "name": "stdout",
     "output_type": "stream",
     "text": [
      "Iter: 36,\t FLOPS: [70.81%] 90.589 MFLOPS,\t Param: [80.81%] 0.692 M,\t Left: 1895,\t Pruned Ratio: 11.14 %,\t Train Loss: 0.0266,\t Test Acc: 93.44\n"
     ]
    },
    {
     "name": "stderr",
     "output_type": "stream",
     "text": [
      "100%|█████████████████████████████████████████████████████████████| 391/391 [00:23<00:00, 16.61it/s]\n",
      "  0%|                                                                       | 0/391 [00:00<?, ?it/s]"
     ]
    },
    {
     "name": "stdout",
     "output_type": "stream",
     "text": [
      "Iter: 37,\t FLOPS: [70.29%] 89.919 MFLOPS,\t Param: [80.51%] 0.689 M,\t Left: 1891,\t Pruned Ratio: 11.33 %,\t Train Loss: 0.0266,\t Test Acc: 93.57\n"
     ]
    },
    {
     "name": "stderr",
     "output_type": "stream",
     "text": [
      "100%|█████████████████████████████████████████████████████████████| 391/391 [00:26<00:00, 14.76it/s]\n",
      "  0%|                                                                       | 0/391 [00:00<?, ?it/s]"
     ]
    },
    {
     "name": "stdout",
     "output_type": "stream",
     "text": [
      "Iter: 38,\t FLOPS: [70.00%] 89.549 MFLOPS,\t Param: [80.04%] 0.685 M,\t Left: 1887,\t Pruned Ratio: 11.51 %,\t Train Loss: 0.0283,\t Test Acc: 93.23\n"
     ]
    },
    {
     "name": "stderr",
     "output_type": "stream",
     "text": [
      "100%|█████████████████████████████████████████████████████████████| 391/391 [00:28<00:00, 13.51it/s]\n",
      "  0%|                                                                       | 0/391 [00:00<?, ?it/s]"
     ]
    },
    {
     "name": "stdout",
     "output_type": "stream",
     "text": [
      "Iter: 39,\t FLOPS: [69.47%] 88.879 MFLOPS,\t Param: [79.73%] 0.682 M,\t Left: 1883,\t Pruned Ratio: 11.70 %,\t Train Loss: 0.0270,\t Test Acc: 93.35\n",
      "Tocking:\n"
     ]
    },
    {
     "name": "stderr",
     "output_type": "stream",
     "text": [
      "100%|█████████████████████████████████████████████████████████████| 391/391 [00:33<00:00, 11.69it/s]\n",
      "  0%|                                                                       | 0/391 [00:00<?, ?it/s]"
     ]
    },
    {
     "name": "stdout",
     "output_type": "stream",
     "text": [
      "Tock - 0,\t Test Loss: 0.2664,\t Test Acc: 92.70, Final LR: 0.00280\n"
     ]
    },
    {
     "name": "stderr",
     "output_type": "stream",
     "text": [
      "100%|█████████████████████████████████████████████████████████████| 391/391 [00:31<00:00, 12.35it/s]\n",
      "  0%|                                                                       | 0/391 [00:00<?, ?it/s]"
     ]
    },
    {
     "name": "stdout",
     "output_type": "stream",
     "text": [
      "Tock - 1,\t Test Loss: 0.4059,\t Test Acc: 88.25, Final LR: 0.00460\n"
     ]
    },
    {
     "name": "stderr",
     "output_type": "stream",
     "text": [
      "100%|█████████████████████████████████████████████████████████████| 391/391 [00:32<00:00, 12.22it/s]\n",
      "  0%|                                                                       | 0/391 [00:00<?, ?it/s]"
     ]
    },
    {
     "name": "stdout",
     "output_type": "stream",
     "text": [
      "Tock - 2,\t Test Loss: 0.3444,\t Test Acc: 89.82, Final LR: 0.00640\n"
     ]
    },
    {
     "name": "stderr",
     "output_type": "stream",
     "text": [
      "100%|█████████████████████████████████████████████████████████████| 391/391 [00:32<00:00, 12.22it/s]\n",
      "  0%|                                                                       | 0/391 [00:00<?, ?it/s]"
     ]
    },
    {
     "name": "stdout",
     "output_type": "stream",
     "text": [
      "Tock - 3,\t Test Loss: 0.4248,\t Test Acc: 87.50, Final LR: 0.00820\n"
     ]
    },
    {
     "name": "stderr",
     "output_type": "stream",
     "text": [
      "100%|█████████████████████████████████████████████████████████████| 391/391 [00:32<00:00, 12.09it/s]\n",
      "  0%|                                                                       | 0/391 [00:00<?, ?it/s]"
     ]
    },
    {
     "name": "stdout",
     "output_type": "stream",
     "text": [
      "Tock - 4,\t Test Loss: 0.5397,\t Test Acc: 83.67, Final LR: 0.01000\n"
     ]
    },
    {
     "name": "stderr",
     "output_type": "stream",
     "text": [
      "100%|█████████████████████████████████████████████████████████████| 391/391 [00:32<00:00, 12.19it/s]\n",
      "  0%|                                                                       | 0/391 [00:00<?, ?it/s]"
     ]
    },
    {
     "name": "stdout",
     "output_type": "stream",
     "text": [
      "Tock - 5,\t Test Loss: 0.3401,\t Test Acc: 89.66, Final LR: 0.00820\n"
     ]
    },
    {
     "name": "stderr",
     "output_type": "stream",
     "text": [
      "100%|█████████████████████████████████████████████████████████████| 391/391 [00:32<00:00, 12.18it/s]\n",
      "  0%|                                                                       | 0/391 [00:00<?, ?it/s]"
     ]
    },
    {
     "name": "stdout",
     "output_type": "stream",
     "text": [
      "Tock - 6,\t Test Loss: 0.4045,\t Test Acc: 88.25, Final LR: 0.00640\n"
     ]
    },
    {
     "name": "stderr",
     "output_type": "stream",
     "text": [
      "100%|█████████████████████████████████████████████████████████████| 391/391 [00:32<00:00, 12.06it/s]\n",
      "  0%|                                                                       | 0/391 [00:00<?, ?it/s]"
     ]
    },
    {
     "name": "stdout",
     "output_type": "stream",
     "text": [
      "Tock - 7,\t Test Loss: 0.2787,\t Test Acc: 91.67, Final LR: 0.00460\n"
     ]
    },
    {
     "name": "stderr",
     "output_type": "stream",
     "text": [
      "100%|█████████████████████████████████████████████████████████████| 391/391 [00:32<00:00, 12.19it/s]\n",
      "  0%|                                                                       | 0/391 [00:00<?, ?it/s]"
     ]
    },
    {
     "name": "stdout",
     "output_type": "stream",
     "text": [
      "Tock - 8,\t Test Loss: 0.2637,\t Test Acc: 92.42, Final LR: 0.00280\n"
     ]
    },
    {
     "name": "stderr",
     "output_type": "stream",
     "text": [
      "100%|█████████████████████████████████████████████████████████████| 391/391 [00:31<00:00, 12.24it/s]\n",
      "  0%|                                                                       | 0/391 [00:00<?, ?it/s]"
     ]
    },
    {
     "name": "stdout",
     "output_type": "stream",
     "text": [
      "Tock - 9,\t Test Loss: 0.2334,\t Test Acc: 93.49, Final LR: 0.00100\n"
     ]
    },
    {
     "name": "stderr",
     "output_type": "stream",
     "text": [
      "100%|█████████████████████████████████████████████████████████████| 391/391 [00:23<00:00, 16.45it/s]\n",
      "  0%|                                                                       | 0/391 [00:00<?, ?it/s]"
     ]
    },
    {
     "name": "stdout",
     "output_type": "stream",
     "text": [
      "Iter: 40,\t FLOPS: [68.66%] 87.833 MFLOPS,\t Param: [79.56%] 0.681 M,\t Left: 1879,\t Pruned Ratio: 11.89 %,\t Train Loss: 0.0324,\t Test Acc: 93.44\n"
     ]
    },
    {
     "name": "stderr",
     "output_type": "stream",
     "text": [
      "100%|█████████████████████████████████████████████████████████████| 391/391 [00:28<00:00, 13.65it/s]\n",
      "  0%|                                                                       | 0/391 [00:00<?, ?it/s]"
     ]
    },
    {
     "name": "stdout",
     "output_type": "stream",
     "text": [
      "Iter: 41,\t FLOPS: [68.13%] 87.163 MFLOPS,\t Param: [79.26%] 0.678 M,\t Left: 1875,\t Pruned Ratio: 12.08 %,\t Train Loss: 0.0286,\t Test Acc: 93.59\n"
     ]
    },
    {
     "name": "stderr",
     "output_type": "stream",
     "text": [
      "100%|█████████████████████████████████████████████████████████████| 391/391 [00:28<00:00, 13.66it/s]\n",
      "  0%|                                                                       | 0/391 [00:00<?, ?it/s]"
     ]
    },
    {
     "name": "stdout",
     "output_type": "stream",
     "text": [
      "Iter: 42,\t FLOPS: [67.73%] 86.644 MFLOPS,\t Param: [78.92%] 0.675 M,\t Left: 1871,\t Pruned Ratio: 12.27 %,\t Train Loss: 0.0282,\t Test Acc: 93.58\n"
     ]
    },
    {
     "name": "stderr",
     "output_type": "stream",
     "text": [
      "100%|█████████████████████████████████████████████████████████████| 391/391 [00:22<00:00, 17.19it/s]\n",
      "  0%|                                                                       | 0/391 [00:00<?, ?it/s]"
     ]
    },
    {
     "name": "stdout",
     "output_type": "stream",
     "text": [
      "Iter: 43,\t FLOPS: [67.38%] 86.199 MFLOPS,\t Param: [78.52%] 0.672 M,\t Left: 1867,\t Pruned Ratio: 12.45 %,\t Train Loss: 0.0282,\t Test Acc: 93.52\n"
     ]
    },
    {
     "name": "stderr",
     "output_type": "stream",
     "text": [
      "100%|█████████████████████████████████████████████████████████████| 391/391 [00:28<00:00, 13.91it/s]\n",
      "  0%|                                                                       | 0/391 [00:00<?, ?it/s]"
     ]
    },
    {
     "name": "stdout",
     "output_type": "stream",
     "text": [
      "Iter: 44,\t FLOPS: [67.15%] 85.903 MFLOPS,\t Param: [77.98%] 0.667 M,\t Left: 1863,\t Pruned Ratio: 12.64 %,\t Train Loss: 0.0256,\t Test Acc: 93.57\n"
     ]
    },
    {
     "name": "stderr",
     "output_type": "stream",
     "text": [
      "100%|█████████████████████████████████████████████████████████████| 391/391 [00:28<00:00, 13.74it/s]\n",
      "  0%|                                                                       | 0/391 [00:00<?, ?it/s]"
     ]
    },
    {
     "name": "stdout",
     "output_type": "stream",
     "text": [
      "Iter: 45,\t FLOPS: [66.80%] 85.458 MFLOPS,\t Param: [77.57%] 0.664 M,\t Left: 1859,\t Pruned Ratio: 12.83 %,\t Train Loss: 0.0282,\t Test Acc: 93.60\n"
     ]
    },
    {
     "name": "stderr",
     "output_type": "stream",
     "text": [
      "100%|█████████████████████████████████████████████████████████████| 391/391 [00:27<00:00, 14.08it/s]\n",
      "  0%|                                                                       | 0/391 [00:00<?, ?it/s]"
     ]
    },
    {
     "name": "stdout",
     "output_type": "stream",
     "text": [
      "Iter: 46,\t FLOPS: [66.28%] 84.788 MFLOPS,\t Param: [77.27%] 0.661 M,\t Left: 1855,\t Pruned Ratio: 13.02 %,\t Train Loss: 0.0291,\t Test Acc: 93.45\n"
     ]
    },
    {
     "name": "stderr",
     "output_type": "stream",
     "text": [
      "100%|█████████████████████████████████████████████████████████████| 391/391 [00:27<00:00, 14.23it/s]\n",
      "  0%|                                                                       | 0/391 [00:00<?, ?it/s]"
     ]
    },
    {
     "name": "stdout",
     "output_type": "stream",
     "text": [
      "Iter: 47,\t FLOPS: [65.75%] 84.118 MFLOPS,\t Param: [76.97%] 0.659 M,\t Left: 1851,\t Pruned Ratio: 13.20 %,\t Train Loss: 0.0286,\t Test Acc: 93.55\n"
     ]
    },
    {
     "name": "stderr",
     "output_type": "stream",
     "text": [
      "100%|█████████████████████████████████████████████████████████████| 391/391 [00:28<00:00, 13.83it/s]\n",
      "  0%|                                                                       | 0/391 [00:00<?, ?it/s]"
     ]
    },
    {
     "name": "stdout",
     "output_type": "stream",
     "text": [
      "Iter: 48,\t FLOPS: [65.35%] 83.597 MFLOPS,\t Param: [76.53%] 0.655 M,\t Left: 1847,\t Pruned Ratio: 13.39 %,\t Train Loss: 0.0290,\t Test Acc: 93.49\n"
     ]
    },
    {
     "name": "stderr",
     "output_type": "stream",
     "text": [
      "100%|█████████████████████████████████████████████████████████████| 391/391 [00:27<00:00, 14.20it/s]\n",
      "  0%|                                                                       | 0/391 [00:00<?, ?it/s]"
     ]
    },
    {
     "name": "stdout",
     "output_type": "stream",
     "text": [
      "Iter: 49,\t FLOPS: [65.11%] 83.301 MFLOPS,\t Param: [75.99%] 0.650 M,\t Left: 1843,\t Pruned Ratio: 13.58 %,\t Train Loss: 0.0282,\t Test Acc: 93.49\n",
      "Tocking:\n"
     ]
    },
    {
     "name": "stderr",
     "output_type": "stream",
     "text": [
      "100%|█████████████████████████████████████████████████████████████| 391/391 [00:32<00:00, 12.10it/s]\n",
      "  0%|                                                                       | 0/391 [00:00<?, ?it/s]"
     ]
    },
    {
     "name": "stdout",
     "output_type": "stream",
     "text": [
      "Tock - 0,\t Test Loss: 0.2843,\t Test Acc: 92.15, Final LR: 0.00280\n"
     ]
    },
    {
     "name": "stderr",
     "output_type": "stream",
     "text": [
      "100%|█████████████████████████████████████████████████████████████| 391/391 [00:32<00:00, 12.17it/s]\n",
      "  0%|                                                                       | 0/391 [00:00<?, ?it/s]"
     ]
    },
    {
     "name": "stdout",
     "output_type": "stream",
     "text": [
      "Tock - 1,\t Test Loss: 0.3177,\t Test Acc: 90.64, Final LR: 0.00460\n"
     ]
    },
    {
     "name": "stderr",
     "output_type": "stream",
     "text": [
      "100%|█████████████████████████████████████████████████████████████| 391/391 [00:31<00:00, 12.24it/s]\n",
      "  0%|                                                                       | 0/391 [00:00<?, ?it/s]"
     ]
    },
    {
     "name": "stdout",
     "output_type": "stream",
     "text": [
      "Tock - 2,\t Test Loss: 0.5245,\t Test Acc: 85.27, Final LR: 0.00640\n"
     ]
    },
    {
     "name": "stderr",
     "output_type": "stream",
     "text": [
      "100%|█████████████████████████████████████████████████████████████| 391/391 [00:31<00:00, 12.39it/s]\n",
      "  0%|                                                                       | 0/391 [00:00<?, ?it/s]"
     ]
    },
    {
     "name": "stdout",
     "output_type": "stream",
     "text": [
      "Tock - 3,\t Test Loss: 0.3867,\t Test Acc: 87.91, Final LR: 0.00820\n"
     ]
    },
    {
     "name": "stderr",
     "output_type": "stream",
     "text": [
      "100%|█████████████████████████████████████████████████████████████| 391/391 [00:31<00:00, 12.24it/s]\n",
      "  0%|                                                                       | 0/391 [00:00<?, ?it/s]"
     ]
    },
    {
     "name": "stdout",
     "output_type": "stream",
     "text": [
      "Tock - 4,\t Test Loss: 0.4760,\t Test Acc: 85.94, Final LR: 0.01000\n"
     ]
    },
    {
     "name": "stderr",
     "output_type": "stream",
     "text": [
      "100%|█████████████████████████████████████████████████████████████| 391/391 [00:31<00:00, 12.38it/s]\n",
      "  0%|                                                                       | 0/391 [00:00<?, ?it/s]"
     ]
    },
    {
     "name": "stdout",
     "output_type": "stream",
     "text": [
      "Tock - 5,\t Test Loss: 0.3218,\t Test Acc: 89.73, Final LR: 0.00820\n"
     ]
    },
    {
     "name": "stderr",
     "output_type": "stream",
     "text": [
      "100%|█████████████████████████████████████████████████████████████| 391/391 [00:32<00:00, 12.15it/s]\n",
      "  0%|                                                                       | 0/391 [00:00<?, ?it/s]"
     ]
    },
    {
     "name": "stdout",
     "output_type": "stream",
     "text": [
      "Tock - 6,\t Test Loss: 0.3210,\t Test Acc: 90.10, Final LR: 0.00640\n"
     ]
    },
    {
     "name": "stderr",
     "output_type": "stream",
     "text": [
      "100%|█████████████████████████████████████████████████████████████| 391/391 [00:32<00:00, 12.20it/s]\n",
      "  0%|                                                                       | 0/391 [00:00<?, ?it/s]"
     ]
    },
    {
     "name": "stdout",
     "output_type": "stream",
     "text": [
      "Tock - 7,\t Test Loss: 0.2891,\t Test Acc: 91.67, Final LR: 0.00460\n"
     ]
    },
    {
     "name": "stderr",
     "output_type": "stream",
     "text": [
      "100%|█████████████████████████████████████████████████████████████| 391/391 [00:31<00:00, 12.44it/s]\n",
      "  0%|                                                                       | 0/391 [00:00<?, ?it/s]"
     ]
    },
    {
     "name": "stdout",
     "output_type": "stream",
     "text": [
      "Tock - 8,\t Test Loss: 0.2521,\t Test Acc: 92.70, Final LR: 0.00280\n"
     ]
    },
    {
     "name": "stderr",
     "output_type": "stream",
     "text": [
      "100%|█████████████████████████████████████████████████████████████| 391/391 [00:32<00:00, 12.13it/s]\n",
      "  0%|                                                                       | 0/391 [00:00<?, ?it/s]"
     ]
    },
    {
     "name": "stdout",
     "output_type": "stream",
     "text": [
      "Tock - 9,\t Test Loss: 0.2374,\t Test Acc: 93.21, Final LR: 0.00100\n"
     ]
    },
    {
     "name": "stderr",
     "output_type": "stream",
     "text": [
      "100%|█████████████████████████████████████████████████████████████| 391/391 [00:27<00:00, 14.42it/s]\n",
      "  0%|                                                                       | 0/391 [00:00<?, ?it/s]"
     ]
    },
    {
     "name": "stdout",
     "output_type": "stream",
     "text": [
      "Iter: 50,\t FLOPS: [64.71%] 82.782 MFLOPS,\t Param: [75.65%] 0.647 M,\t Left: 1839,\t Pruned Ratio: 13.77 %,\t Train Loss: 0.0311,\t Test Acc: 93.20\n"
     ]
    },
    {
     "name": "stderr",
     "output_type": "stream",
     "text": [
      "100%|█████████████████████████████████████████████████████████████| 391/391 [00:27<00:00, 14.08it/s]\n",
      "  0%|                                                                       | 0/391 [00:00<?, ?it/s]"
     ]
    },
    {
     "name": "stdout",
     "output_type": "stream",
     "text": [
      "Iter: 51,\t FLOPS: [64.24%] 82.187 MFLOPS,\t Param: [75.28%] 0.644 M,\t Left: 1835,\t Pruned Ratio: 13.96 %,\t Train Loss: 0.0293,\t Test Acc: 93.26\n"
     ]
    },
    {
     "name": "stderr",
     "output_type": "stream",
     "text": [
      "100%|█████████████████████████████████████████████████████████████| 391/391 [00:27<00:00, 13.99it/s]\n",
      "  0%|                                                                       | 0/391 [00:00<?, ?it/s]"
     ]
    },
    {
     "name": "stdout",
     "output_type": "stream",
     "text": [
      "Iter: 52,\t FLOPS: [63.78%] 81.591 MFLOPS,\t Param: [74.91%] 0.641 M,\t Left: 1831,\t Pruned Ratio: 14.14 %,\t Train Loss: 0.0285,\t Test Acc: 93.38\n"
     ]
    },
    {
     "name": "stderr",
     "output_type": "stream",
     "text": [
      "100%|█████████████████████████████████████████████████████████████| 391/391 [00:28<00:00, 13.67it/s]\n",
      "  0%|                                                                       | 0/391 [00:00<?, ?it/s]"
     ]
    },
    {
     "name": "stdout",
     "output_type": "stream",
     "text": [
      "Iter: 53,\t FLOPS: [63.31%] 80.996 MFLOPS,\t Param: [74.54%] 0.638 M,\t Left: 1827,\t Pruned Ratio: 14.33 %,\t Train Loss: 0.0281,\t Test Acc: 93.28\n"
     ]
    },
    {
     "name": "stderr",
     "output_type": "stream",
     "text": [
      "100%|█████████████████████████████████████████████████████████████| 391/391 [00:27<00:00, 14.14it/s]\n",
      "  0%|                                                                       | 0/391 [00:00<?, ?it/s]"
     ]
    },
    {
     "name": "stdout",
     "output_type": "stream",
     "text": [
      "Iter: 54,\t FLOPS: [62.96%] 80.551 MFLOPS,\t Param: [74.13%] 0.634 M,\t Left: 1823,\t Pruned Ratio: 14.52 %,\t Train Loss: 0.0299,\t Test Acc: 93.32\n"
     ]
    },
    {
     "name": "stderr",
     "output_type": "stream",
     "text": [
      "100%|█████████████████████████████████████████████████████████████| 391/391 [00:22<00:00, 17.17it/s]\n",
      "  0%|                                                                       | 0/391 [00:00<?, ?it/s]"
     ]
    },
    {
     "name": "stdout",
     "output_type": "stream",
     "text": [
      "Iter: 55,\t FLOPS: [62.56%] 80.031 MFLOPS,\t Param: [73.79%] 0.632 M,\t Left: 1819,\t Pruned Ratio: 14.71 %,\t Train Loss: 0.0296,\t Test Acc: 93.15\n"
     ]
    },
    {
     "name": "stderr",
     "output_type": "stream",
     "text": [
      "100%|█████████████████████████████████████████████████████████████| 391/391 [00:25<00:00, 15.07it/s]\n",
      "  0%|                                                                       | 0/391 [00:00<?, ?it/s]"
     ]
    },
    {
     "name": "stdout",
     "output_type": "stream",
     "text": [
      "Iter: 56,\t FLOPS: [62.09%] 79.436 MFLOPS,\t Param: [73.42%] 0.628 M,\t Left: 1815,\t Pruned Ratio: 14.90 %,\t Train Loss: 0.0298,\t Test Acc: 93.24\n"
     ]
    },
    {
     "name": "stderr",
     "output_type": "stream",
     "text": [
      "100%|█████████████████████████████████████████████████████████████| 391/391 [00:27<00:00, 13.99it/s]\n",
      "  0%|                                                                       | 0/391 [00:00<?, ?it/s]"
     ]
    },
    {
     "name": "stdout",
     "output_type": "stream",
     "text": [
      "Iter: 57,\t FLOPS: [61.80%] 79.065 MFLOPS,\t Param: [72.95%] 0.624 M,\t Left: 1811,\t Pruned Ratio: 15.08 %,\t Train Loss: 0.0303,\t Test Acc: 93.28\n"
     ]
    },
    {
     "name": "stderr",
     "output_type": "stream",
     "text": [
      "100%|█████████████████████████████████████████████████████████████| 391/391 [00:25<00:00, 15.15it/s]\n",
      "  0%|                                                                       | 0/391 [00:00<?, ?it/s]"
     ]
    },
    {
     "name": "stdout",
     "output_type": "stream",
     "text": [
      "Iter: 58,\t FLOPS: [61.28%] 78.395 MFLOPS,\t Param: [72.65%] 0.622 M,\t Left: 1807,\t Pruned Ratio: 15.27 %,\t Train Loss: 0.0292,\t Test Acc: 93.07\n"
     ]
    },
    {
     "name": "stderr",
     "output_type": "stream",
     "text": [
      "100%|█████████████████████████████████████████████████████████████| 391/391 [00:28<00:00, 13.91it/s]\n",
      "  0%|                                                                       | 0/391 [00:00<?, ?it/s]"
     ]
    },
    {
     "name": "stdout",
     "output_type": "stream",
     "text": [
      "Iter: 59,\t FLOPS: [61.05%] 78.100 MFLOPS,\t Param: [72.11%] 0.617 M,\t Left: 1803,\t Pruned Ratio: 15.46 %,\t Train Loss: 0.0305,\t Test Acc: 93.09\n",
      "Tocking:\n"
     ]
    },
    {
     "name": "stderr",
     "output_type": "stream",
     "text": [
      "100%|█████████████████████████████████████████████████████████████| 391/391 [00:32<00:00, 12.20it/s]\n",
      "  0%|                                                                       | 0/391 [00:00<?, ?it/s]"
     ]
    },
    {
     "name": "stdout",
     "output_type": "stream",
     "text": [
      "Tock - 0,\t Test Loss: 0.2993,\t Test Acc: 91.83, Final LR: 0.00280\n"
     ]
    },
    {
     "name": "stderr",
     "output_type": "stream",
     "text": [
      "100%|█████████████████████████████████████████████████████████████| 391/391 [00:28<00:00, 13.74it/s]\n",
      "  0%|                                                                       | 0/391 [00:00<?, ?it/s]"
     ]
    },
    {
     "name": "stdout",
     "output_type": "stream",
     "text": [
      "Tock - 1,\t Test Loss: 0.3870,\t Test Acc: 88.95, Final LR: 0.00460\n"
     ]
    },
    {
     "name": "stderr",
     "output_type": "stream",
     "text": [
      "100%|█████████████████████████████████████████████████████████████| 391/391 [00:31<00:00, 12.29it/s]\n",
      "  0%|                                                                       | 0/391 [00:00<?, ?it/s]"
     ]
    },
    {
     "name": "stdout",
     "output_type": "stream",
     "text": [
      "Tock - 2,\t Test Loss: 0.3834,\t Test Acc: 88.99, Final LR: 0.00640\n"
     ]
    },
    {
     "name": "stderr",
     "output_type": "stream",
     "text": [
      "100%|█████████████████████████████████████████████████████████████| 391/391 [00:31<00:00, 12.34it/s]\n",
      "  0%|                                                                       | 0/391 [00:00<?, ?it/s]"
     ]
    },
    {
     "name": "stdout",
     "output_type": "stream",
     "text": [
      "Tock - 3,\t Test Loss: 0.4006,\t Test Acc: 88.22, Final LR: 0.00820\n"
     ]
    },
    {
     "name": "stderr",
     "output_type": "stream",
     "text": [
      "100%|█████████████████████████████████████████████████████████████| 391/391 [00:32<00:00, 12.17it/s]\n",
      "  0%|                                                                       | 0/391 [00:00<?, ?it/s]"
     ]
    },
    {
     "name": "stdout",
     "output_type": "stream",
     "text": [
      "Tock - 4,\t Test Loss: 0.4725,\t Test Acc: 85.89, Final LR: 0.01000\n"
     ]
    },
    {
     "name": "stderr",
     "output_type": "stream",
     "text": [
      "100%|█████████████████████████████████████████████████████████████| 391/391 [00:31<00:00, 12.27it/s]\n",
      "  0%|                                                                       | 0/391 [00:00<?, ?it/s]"
     ]
    },
    {
     "name": "stdout",
     "output_type": "stream",
     "text": [
      "Tock - 5,\t Test Loss: 0.3453,\t Test Acc: 89.18, Final LR: 0.00820\n"
     ]
    },
    {
     "name": "stderr",
     "output_type": "stream",
     "text": [
      "100%|█████████████████████████████████████████████████████████████| 391/391 [00:32<00:00, 12.03it/s]\n",
      "  0%|                                                                       | 0/391 [00:00<?, ?it/s]"
     ]
    },
    {
     "name": "stdout",
     "output_type": "stream",
     "text": [
      "Tock - 6,\t Test Loss: 0.2848,\t Test Acc: 91.17, Final LR: 0.00640\n"
     ]
    },
    {
     "name": "stderr",
     "output_type": "stream",
     "text": [
      "100%|█████████████████████████████████████████████████████████████| 391/391 [00:31<00:00, 12.39it/s]\n",
      "  0%|                                                                       | 0/391 [00:00<?, ?it/s]"
     ]
    },
    {
     "name": "stdout",
     "output_type": "stream",
     "text": [
      "Tock - 7,\t Test Loss: 0.2741,\t Test Acc: 91.69, Final LR: 0.00460\n"
     ]
    },
    {
     "name": "stderr",
     "output_type": "stream",
     "text": [
      "100%|█████████████████████████████████████████████████████████████| 391/391 [00:30<00:00, 13.02it/s]\n",
      "  0%|                                                                       | 0/391 [00:00<?, ?it/s]"
     ]
    },
    {
     "name": "stdout",
     "output_type": "stream",
     "text": [
      "Tock - 8,\t Test Loss: 0.2706,\t Test Acc: 91.98, Final LR: 0.00280\n"
     ]
    },
    {
     "name": "stderr",
     "output_type": "stream",
     "text": [
      "100%|█████████████████████████████████████████████████████████████| 391/391 [00:31<00:00, 12.26it/s]\n",
      "  0%|                                                                       | 0/391 [00:00<?, ?it/s]"
     ]
    },
    {
     "name": "stdout",
     "output_type": "stream",
     "text": [
      "Tock - 9,\t Test Loss: 0.2343,\t Test Acc: 93.23, Final LR: 0.00100\n"
     ]
    },
    {
     "name": "stderr",
     "output_type": "stream",
     "text": [
      "100%|█████████████████████████████████████████████████████████████| 391/391 [00:22<00:00, 17.22it/s]\n",
      "  0%|                                                                       | 0/391 [00:00<?, ?it/s]"
     ]
    },
    {
     "name": "stdout",
     "output_type": "stream",
     "text": [
      "Iter: 60,\t FLOPS: [60.58%] 77.506 MFLOPS,\t Param: [71.84%] 0.615 M,\t Left: 1799,\t Pruned Ratio: 15.65 %,\t Train Loss: 0.0326,\t Test Acc: 93.38\n"
     ]
    },
    {
     "name": "stderr",
     "output_type": "stream",
     "text": [
      "100%|█████████████████████████████████████████████████████████████| 391/391 [00:26<00:00, 14.81it/s]\n",
      "  0%|                                                                       | 0/391 [00:00<?, ?it/s]"
     ]
    },
    {
     "name": "stdout",
     "output_type": "stream",
     "text": [
      "Iter: 61,\t FLOPS: [60.29%] 77.135 MFLOPS,\t Param: [71.37%] 0.611 M,\t Left: 1795,\t Pruned Ratio: 15.84 %,\t Train Loss: 0.0314,\t Test Acc: 93.39\n"
     ]
    },
    {
     "name": "stderr",
     "output_type": "stream",
     "text": [
      "100%|█████████████████████████████████████████████████████████████| 391/391 [00:28<00:00, 13.77it/s]\n",
      "  0%|                                                                       | 0/391 [00:00<?, ?it/s]"
     ]
    },
    {
     "name": "stdout",
     "output_type": "stream",
     "text": [
      "Iter: 62,\t FLOPS: [59.89%] 76.614 MFLOPS,\t Param: [70.93%] 0.607 M,\t Left: 1791,\t Pruned Ratio: 16.02 %,\t Train Loss: 0.0303,\t Test Acc: 93.30\n"
     ]
    },
    {
     "name": "stderr",
     "output_type": "stream",
     "text": [
      "100%|█████████████████████████████████████████████████████████████| 391/391 [00:28<00:00, 13.72it/s]\n",
      "  0%|                                                                       | 0/391 [00:00<?, ?it/s]"
     ]
    },
    {
     "name": "stdout",
     "output_type": "stream",
     "text": [
      "Iter: 63,\t FLOPS: [59.54%] 76.169 MFLOPS,\t Param: [70.52%] 0.604 M,\t Left: 1787,\t Pruned Ratio: 16.21 %,\t Train Loss: 0.0335,\t Test Acc: 93.33\n"
     ]
    },
    {
     "name": "stderr",
     "output_type": "stream",
     "text": [
      "100%|█████████████████████████████████████████████████████████████| 391/391 [00:28<00:00, 13.89it/s]\n",
      "  0%|                                                                       | 0/391 [00:00<?, ?it/s]"
     ]
    },
    {
     "name": "stdout",
     "output_type": "stream",
     "text": [
      "Iter: 64,\t FLOPS: [59.31%] 75.873 MFLOPS,\t Param: [69.98%] 0.599 M,\t Left: 1783,\t Pruned Ratio: 16.40 %,\t Train Loss: 0.0310,\t Test Acc: 93.27\n"
     ]
    },
    {
     "name": "stderr",
     "output_type": "stream",
     "text": [
      "100%|█████████████████████████████████████████████████████████████| 391/391 [00:23<00:00, 16.39it/s]\n",
      "  0%|                                                                       | 0/391 [00:00<?, ?it/s]"
     ]
    },
    {
     "name": "stdout",
     "output_type": "stream",
     "text": [
      "Iter: 65,\t FLOPS: [58.90%] 75.352 MFLOPS,\t Param: [69.54%] 0.595 M,\t Left: 1779,\t Pruned Ratio: 16.59 %,\t Train Loss: 0.0308,\t Test Acc: 93.32\n"
     ]
    },
    {
     "name": "stderr",
     "output_type": "stream",
     "text": [
      "100%|█████████████████████████████████████████████████████████████| 391/391 [00:29<00:00, 13.46it/s]\n",
      "  0%|                                                                       | 0/391 [00:00<?, ?it/s]"
     ]
    },
    {
     "name": "stdout",
     "output_type": "stream",
     "text": [
      "Iter: 66,\t FLOPS: [58.44%] 74.757 MFLOPS,\t Param: [69.17%] 0.592 M,\t Left: 1775,\t Pruned Ratio: 16.78 %,\t Train Loss: 0.0311,\t Test Acc: 93.49\n"
     ]
    },
    {
     "name": "stderr",
     "output_type": "stream",
     "text": [
      "100%|█████████████████████████████████████████████████████████████| 391/391 [00:28<00:00, 13.61it/s]\n",
      "  0%|                                                                       | 0/391 [00:00<?, ?it/s]"
     ]
    },
    {
     "name": "stdout",
     "output_type": "stream",
     "text": [
      "Iter: 67,\t FLOPS: [58.15%] 74.386 MFLOPS,\t Param: [68.70%] 0.588 M,\t Left: 1771,\t Pruned Ratio: 16.96 %,\t Train Loss: 0.0318,\t Test Acc: 93.27\n"
     ]
    },
    {
     "name": "stderr",
     "output_type": "stream",
     "text": [
      "100%|█████████████████████████████████████████████████████████████| 391/391 [00:23<00:00, 16.90it/s]\n",
      "  0%|                                                                       | 0/391 [00:00<?, ?it/s]"
     ]
    },
    {
     "name": "stdout",
     "output_type": "stream",
     "text": [
      "Iter: 68,\t FLOPS: [57.80%] 73.942 MFLOPS,\t Param: [68.30%] 0.584 M,\t Left: 1767,\t Pruned Ratio: 17.15 %,\t Train Loss: 0.0329,\t Test Acc: 93.46\n"
     ]
    },
    {
     "name": "stderr",
     "output_type": "stream",
     "text": [
      "100%|█████████████████████████████████████████████████████████████| 391/391 [00:27<00:00, 14.04it/s]\n",
      "  0%|                                                                       | 0/391 [00:00<?, ?it/s]"
     ]
    },
    {
     "name": "stdout",
     "output_type": "stream",
     "text": [
      "Iter: 69,\t FLOPS: [57.39%] 73.421 MFLOPS,\t Param: [67.86%] 0.581 M,\t Left: 1763,\t Pruned Ratio: 17.34 %,\t Train Loss: 0.0333,\t Test Acc: 93.16\n",
      "Tocking:\n"
     ]
    },
    {
     "name": "stderr",
     "output_type": "stream",
     "text": [
      "100%|█████████████████████████████████████████████████████████████| 391/391 [00:31<00:00, 12.26it/s]\n",
      "  0%|                                                                       | 0/391 [00:00<?, ?it/s]"
     ]
    },
    {
     "name": "stdout",
     "output_type": "stream",
     "text": [
      "Tock - 0,\t Test Loss: 0.2793,\t Test Acc: 92.31, Final LR: 0.00280\n"
     ]
    },
    {
     "name": "stderr",
     "output_type": "stream",
     "text": [
      "100%|█████████████████████████████████████████████████████████████| 391/391 [00:32<00:00, 12.07it/s]\n",
      "  0%|                                                                       | 0/391 [00:00<?, ?it/s]"
     ]
    },
    {
     "name": "stdout",
     "output_type": "stream",
     "text": [
      "Tock - 1,\t Test Loss: 0.3960,\t Test Acc: 88.73, Final LR: 0.00460\n"
     ]
    },
    {
     "name": "stderr",
     "output_type": "stream",
     "text": [
      "100%|█████████████████████████████████████████████████████████████| 391/391 [00:31<00:00, 12.38it/s]\n",
      "  0%|                                                                       | 0/391 [00:00<?, ?it/s]"
     ]
    },
    {
     "name": "stdout",
     "output_type": "stream",
     "text": [
      "Tock - 2,\t Test Loss: 0.4432,\t Test Acc: 87.05, Final LR: 0.00640\n"
     ]
    },
    {
     "name": "stderr",
     "output_type": "stream",
     "text": [
      "100%|█████████████████████████████████████████████████████████████| 391/391 [00:31<00:00, 12.25it/s]\n",
      "  0%|                                                                       | 0/391 [00:00<?, ?it/s]"
     ]
    },
    {
     "name": "stdout",
     "output_type": "stream",
     "text": [
      "Tock - 3,\t Test Loss: 0.4326,\t Test Acc: 87.20, Final LR: 0.00820\n"
     ]
    },
    {
     "name": "stderr",
     "output_type": "stream",
     "text": [
      "100%|█████████████████████████████████████████████████████████████| 391/391 [00:32<00:00, 12.12it/s]\n",
      "  0%|                                                                       | 0/391 [00:00<?, ?it/s]"
     ]
    },
    {
     "name": "stdout",
     "output_type": "stream",
     "text": [
      "Tock - 4,\t Test Loss: 0.4555,\t Test Acc: 86.39, Final LR: 0.01000\n"
     ]
    },
    {
     "name": "stderr",
     "output_type": "stream",
     "text": [
      "100%|█████████████████████████████████████████████████████████████| 391/391 [00:31<00:00, 12.38it/s]\n",
      "  0%|                                                                       | 0/391 [00:00<?, ?it/s]"
     ]
    },
    {
     "name": "stdout",
     "output_type": "stream",
     "text": [
      "Tock - 5,\t Test Loss: 0.3298,\t Test Acc: 89.54, Final LR: 0.00820\n"
     ]
    },
    {
     "name": "stderr",
     "output_type": "stream",
     "text": [
      "100%|█████████████████████████████████████████████████████████████| 391/391 [00:32<00:00, 11.90it/s]\n",
      "  0%|                                                                       | 0/391 [00:00<?, ?it/s]"
     ]
    },
    {
     "name": "stdout",
     "output_type": "stream",
     "text": [
      "Tock - 6,\t Test Loss: 0.2916,\t Test Acc: 90.78, Final LR: 0.00640\n"
     ]
    },
    {
     "name": "stderr",
     "output_type": "stream",
     "text": [
      "100%|█████████████████████████████████████████████████████████████| 391/391 [00:28<00:00, 13.93it/s]\n",
      "  0%|                                                                       | 0/391 [00:00<?, ?it/s]"
     ]
    },
    {
     "name": "stdout",
     "output_type": "stream",
     "text": [
      "Tock - 7,\t Test Loss: 0.2785,\t Test Acc: 91.52, Final LR: 0.00460\n"
     ]
    },
    {
     "name": "stderr",
     "output_type": "stream",
     "text": [
      "100%|█████████████████████████████████████████████████████████████| 391/391 [00:31<00:00, 12.28it/s]\n",
      "  0%|                                                                       | 0/391 [00:00<?, ?it/s]"
     ]
    },
    {
     "name": "stdout",
     "output_type": "stream",
     "text": [
      "Tock - 8,\t Test Loss: 0.2542,\t Test Acc: 92.66, Final LR: 0.00280\n"
     ]
    },
    {
     "name": "stderr",
     "output_type": "stream",
     "text": [
      "100%|█████████████████████████████████████████████████████████████| 391/391 [00:32<00:00, 12.03it/s]\n",
      "  0%|                                                                       | 0/391 [00:00<?, ?it/s]"
     ]
    },
    {
     "name": "stdout",
     "output_type": "stream",
     "text": [
      "Tock - 9,\t Test Loss: 0.2328,\t Test Acc: 93.27, Final LR: 0.00100\n"
     ]
    },
    {
     "name": "stderr",
     "output_type": "stream",
     "text": [
      "100%|█████████████████████████████████████████████████████████████| 391/391 [00:27<00:00, 14.03it/s]\n",
      "  0%|                                                                       | 0/391 [00:00<?, ?it/s]"
     ]
    },
    {
     "name": "stdout",
     "output_type": "stream",
     "text": [
      "Iter: 70,\t FLOPS: [56.93%] 72.827 MFLOPS,\t Param: [67.59%] 0.578 M,\t Left: 1759,\t Pruned Ratio: 17.53 %,\t Train Loss: 0.0346,\t Test Acc: 93.48\n"
     ]
    },
    {
     "name": "stderr",
     "output_type": "stream",
     "text": [
      "100%|█████████████████████████████████████████████████████████████| 391/391 [00:27<00:00, 14.29it/s]\n",
      "  0%|                                                                       | 0/391 [00:00<?, ?it/s]"
     ]
    },
    {
     "name": "stdout",
     "output_type": "stream",
     "text": [
      "Iter: 71,\t FLOPS: [56.64%] 72.456 MFLOPS,\t Param: [67.12%] 0.574 M,\t Left: 1755,\t Pruned Ratio: 17.72 %,\t Train Loss: 0.0310,\t Test Acc: 93.25\n"
     ]
    },
    {
     "name": "stderr",
     "output_type": "stream",
     "text": [
      "100%|█████████████████████████████████████████████████████████████| 391/391 [00:27<00:00, 13.97it/s]\n",
      "  0%|                                                                       | 0/391 [00:00<?, ?it/s]"
     ]
    },
    {
     "name": "stdout",
     "output_type": "stream",
     "text": [
      "Iter: 72,\t FLOPS: [56.35%] 72.086 MFLOPS,\t Param: [66.64%] 0.570 M,\t Left: 1751,\t Pruned Ratio: 17.90 %,\t Train Loss: 0.0315,\t Test Acc: 93.30\n"
     ]
    },
    {
     "name": "stderr",
     "output_type": "stream",
     "text": [
      "100%|█████████████████████████████████████████████████████████████| 391/391 [00:28<00:00, 13.90it/s]\n",
      "  0%|                                                                       | 0/391 [00:00<?, ?it/s]"
     ]
    },
    {
     "name": "stdout",
     "output_type": "stream",
     "text": [
      "Iter: 73,\t FLOPS: [55.82%] 71.416 MFLOPS,\t Param: [66.34%] 0.568 M,\t Left: 1747,\t Pruned Ratio: 18.09 %,\t Train Loss: 0.0332,\t Test Acc: 93.21\n"
     ]
    },
    {
     "name": "stderr",
     "output_type": "stream",
     "text": [
      "100%|█████████████████████████████████████████████████████████████| 391/391 [00:27<00:00, 13.97it/s]\n",
      "  0%|                                                                       | 0/391 [00:00<?, ?it/s]"
     ]
    },
    {
     "name": "stdout",
     "output_type": "stream",
     "text": [
      "Iter: 74,\t FLOPS: [55.53%] 71.045 MFLOPS,\t Param: [65.87%] 0.564 M,\t Left: 1743,\t Pruned Ratio: 18.28 %,\t Train Loss: 0.0332,\t Test Acc: 93.06\n"
     ]
    },
    {
     "name": "stderr",
     "output_type": "stream",
     "text": [
      "100%|█████████████████████████████████████████████████████████████| 391/391 [00:22<00:00, 17.61it/s]\n",
      "  0%|                                                                       | 0/391 [00:00<?, ?it/s]"
     ]
    },
    {
     "name": "stdout",
     "output_type": "stream",
     "text": [
      "Iter: 75,\t FLOPS: [55.07%] 70.450 MFLOPS,\t Param: [65.50%] 0.561 M,\t Left: 1739,\t Pruned Ratio: 18.47 %,\t Train Loss: 0.0339,\t Test Acc: 93.21\n"
     ]
    },
    {
     "name": "stderr",
     "output_type": "stream",
     "text": [
      "100%|█████████████████████████████████████████████████████████████| 391/391 [00:27<00:00, 14.37it/s]\n",
      "  0%|                                                                       | 0/391 [00:00<?, ?it/s]"
     ]
    },
    {
     "name": "stdout",
     "output_type": "stream",
     "text": [
      "Iter: 76,\t FLOPS: [54.43%] 69.629 MFLOPS,\t Param: [65.23%] 0.558 M,\t Left: 1735,\t Pruned Ratio: 18.66 %,\t Train Loss: 0.0349,\t Test Acc: 93.21\n"
     ]
    },
    {
     "name": "stderr",
     "output_type": "stream",
     "text": [
      "100%|█████████████████████████████████████████████████████████████| 391/391 [00:26<00:00, 15.02it/s]\n",
      "  0%|                                                                       | 0/391 [00:00<?, ?it/s]"
     ]
    },
    {
     "name": "stdout",
     "output_type": "stream",
     "text": [
      "Iter: 77,\t FLOPS: [54.02%] 69.110 MFLOPS,\t Param: [64.89%] 0.555 M,\t Left: 1731,\t Pruned Ratio: 18.84 %,\t Train Loss: 0.0352,\t Test Acc: 92.90\n"
     ]
    },
    {
     "name": "stderr",
     "output_type": "stream",
     "text": [
      "100%|█████████████████████████████████████████████████████████████| 391/391 [00:28<00:00, 13.70it/s]\n",
      "  0%|                                                                       | 0/391 [00:00<?, ?it/s]"
     ]
    },
    {
     "name": "stdout",
     "output_type": "stream",
     "text": [
      "Iter: 78,\t FLOPS: [53.67%] 68.665 MFLOPS,\t Param: [64.48%] 0.552 M,\t Left: 1727,\t Pruned Ratio: 19.03 %,\t Train Loss: 0.0355,\t Test Acc: 93.06\n"
     ]
    },
    {
     "name": "stderr",
     "output_type": "stream",
     "text": [
      "100%|█████████████████████████████████████████████████████████████| 391/391 [00:27<00:00, 14.02it/s]\n",
      "  0%|                                                                       | 0/391 [00:00<?, ?it/s]"
     ]
    },
    {
     "name": "stdout",
     "output_type": "stream",
     "text": [
      "Iter: 79,\t FLOPS: [53.38%] 68.295 MFLOPS,\t Param: [64.01%] 0.548 M,\t Left: 1723,\t Pruned Ratio: 19.22 %,\t Train Loss: 0.0364,\t Test Acc: 92.97\n",
      "Tocking:\n"
     ]
    },
    {
     "name": "stderr",
     "output_type": "stream",
     "text": [
      "100%|█████████████████████████████████████████████████████████████| 391/391 [00:28<00:00, 13.50it/s]\n",
      "  0%|                                                                       | 0/391 [00:00<?, ?it/s]"
     ]
    },
    {
     "name": "stdout",
     "output_type": "stream",
     "text": [
      "Tock - 0,\t Test Loss: 0.2934,\t Test Acc: 91.50, Final LR: 0.00280\n"
     ]
    },
    {
     "name": "stderr",
     "output_type": "stream",
     "text": [
      "100%|█████████████████████████████████████████████████████████████| 391/391 [00:31<00:00, 12.37it/s]\n",
      "  0%|                                                                       | 0/391 [00:00<?, ?it/s]"
     ]
    },
    {
     "name": "stdout",
     "output_type": "stream",
     "text": [
      "Tock - 1,\t Test Loss: 0.3210,\t Test Acc: 90.54, Final LR: 0.00460\n"
     ]
    },
    {
     "name": "stderr",
     "output_type": "stream",
     "text": [
      "100%|█████████████████████████████████████████████████████████████| 391/391 [00:32<00:00, 12.18it/s]\n",
      "  0%|                                                                       | 0/391 [00:00<?, ?it/s]"
     ]
    },
    {
     "name": "stdout",
     "output_type": "stream",
     "text": [
      "Tock - 2,\t Test Loss: 0.3464,\t Test Acc: 89.63, Final LR: 0.00640\n"
     ]
    },
    {
     "name": "stderr",
     "output_type": "stream",
     "text": [
      "100%|█████████████████████████████████████████████████████████████| 391/391 [00:27<00:00, 14.06it/s]\n",
      "  0%|                                                                       | 0/391 [00:00<?, ?it/s]"
     ]
    },
    {
     "name": "stdout",
     "output_type": "stream",
     "text": [
      "Tock - 3,\t Test Loss: 0.4322,\t Test Acc: 86.59, Final LR: 0.00820\n"
     ]
    },
    {
     "name": "stderr",
     "output_type": "stream",
     "text": [
      "100%|█████████████████████████████████████████████████████████████| 391/391 [00:31<00:00, 12.33it/s]\n",
      "  0%|                                                                       | 0/391 [00:00<?, ?it/s]"
     ]
    },
    {
     "name": "stdout",
     "output_type": "stream",
     "text": [
      "Tock - 4,\t Test Loss: 0.4830,\t Test Acc: 85.40, Final LR: 0.01000\n"
     ]
    },
    {
     "name": "stderr",
     "output_type": "stream",
     "text": [
      "100%|█████████████████████████████████████████████████████████████| 391/391 [00:30<00:00, 13.00it/s]\n",
      "  0%|                                                                       | 0/391 [00:00<?, ?it/s]"
     ]
    },
    {
     "name": "stdout",
     "output_type": "stream",
     "text": [
      "Tock - 5,\t Test Loss: 0.3246,\t Test Acc: 89.52, Final LR: 0.00820\n"
     ]
    },
    {
     "name": "stderr",
     "output_type": "stream",
     "text": [
      "100%|█████████████████████████████████████████████████████████████| 391/391 [00:31<00:00, 12.23it/s]\n",
      "  0%|                                                                       | 0/391 [00:00<?, ?it/s]"
     ]
    },
    {
     "name": "stdout",
     "output_type": "stream",
     "text": [
      "Tock - 6,\t Test Loss: 0.2798,\t Test Acc: 91.25, Final LR: 0.00640\n"
     ]
    },
    {
     "name": "stderr",
     "output_type": "stream",
     "text": [
      "100%|█████████████████████████████████████████████████████████████| 391/391 [00:31<00:00, 12.23it/s]\n",
      "  0%|                                                                       | 0/391 [00:00<?, ?it/s]"
     ]
    },
    {
     "name": "stdout",
     "output_type": "stream",
     "text": [
      "Tock - 7,\t Test Loss: 0.2959,\t Test Acc: 91.03, Final LR: 0.00460\n"
     ]
    },
    {
     "name": "stderr",
     "output_type": "stream",
     "text": [
      "100%|█████████████████████████████████████████████████████████████| 391/391 [00:32<00:00, 11.99it/s]\n",
      "  0%|                                                                       | 0/391 [00:00<?, ?it/s]"
     ]
    },
    {
     "name": "stdout",
     "output_type": "stream",
     "text": [
      "Tock - 8,\t Test Loss: 0.2538,\t Test Acc: 92.63, Final LR: 0.00280\n"
     ]
    },
    {
     "name": "stderr",
     "output_type": "stream",
     "text": [
      "100%|█████████████████████████████████████████████████████████████| 391/391 [00:33<00:00, 11.83it/s]\n",
      "  0%|                                                                       | 0/391 [00:00<?, ?it/s]"
     ]
    },
    {
     "name": "stdout",
     "output_type": "stream",
     "text": [
      "Tock - 9,\t Test Loss: 0.2375,\t Test Acc: 92.88, Final LR: 0.00100\n"
     ]
    },
    {
     "name": "stderr",
     "output_type": "stream",
     "text": [
      "100%|█████████████████████████████████████████████████████████████| 391/391 [00:28<00:00, 13.91it/s]\n",
      "  0%|                                                                       | 0/391 [00:00<?, ?it/s]"
     ]
    },
    {
     "name": "stdout",
     "output_type": "stream",
     "text": [
      "Iter: 80,\t FLOPS: [52.98%] 67.775 MFLOPS,\t Param: [63.68%] 0.545 M,\t Left: 1719,\t Pruned Ratio: 19.41 %,\t Train Loss: 0.0358,\t Test Acc: 92.83\n"
     ]
    },
    {
     "name": "stderr",
     "output_type": "stream",
     "text": [
      "100%|█████████████████████████████████████████████████████████████| 391/391 [00:23<00:00, 16.67it/s]\n",
      "  0%|                                                                       | 0/391 [00:00<?, ?it/s]"
     ]
    },
    {
     "name": "stdout",
     "output_type": "stream",
     "text": [
      "Iter: 81,\t FLOPS: [52.63%] 67.330 MFLOPS,\t Param: [63.27%] 0.541 M,\t Left: 1715,\t Pruned Ratio: 19.60 %,\t Train Loss: 0.0338,\t Test Acc: 93.03\n"
     ]
    },
    {
     "name": "stderr",
     "output_type": "stream",
     "text": [
      "100%|█████████████████████████████████████████████████████████████| 391/391 [00:28<00:00, 13.63it/s]\n",
      "  0%|                                                                       | 0/391 [00:00<?, ?it/s]"
     ]
    },
    {
     "name": "stdout",
     "output_type": "stream",
     "text": [
      "Iter: 82,\t FLOPS: [52.40%] 67.034 MFLOPS,\t Param: [62.73%] 0.537 M,\t Left: 1711,\t Pruned Ratio: 19.78 %,\t Train Loss: 0.0334,\t Test Acc: 93.07\n"
     ]
    },
    {
     "name": "stderr",
     "output_type": "stream",
     "text": [
      "100%|█████████████████████████████████████████████████████████████| 391/391 [00:29<00:00, 13.48it/s]\n",
      "  0%|                                                                       | 0/391 [00:00<?, ?it/s]"
     ]
    },
    {
     "name": "stdout",
     "output_type": "stream",
     "text": [
      "Iter: 83,\t FLOPS: [52.17%] 66.738 MFLOPS,\t Param: [62.19%] 0.532 M,\t Left: 1707,\t Pruned Ratio: 19.97 %,\t Train Loss: 0.0326,\t Test Acc: 93.13\n"
     ]
    },
    {
     "name": "stderr",
     "output_type": "stream",
     "text": [
      "100%|█████████████████████████████████████████████████████████████| 391/391 [00:28<00:00, 13.71it/s]\n",
      "  0%|                                                                       | 0/391 [00:00<?, ?it/s]"
     ]
    },
    {
     "name": "stdout",
     "output_type": "stream",
     "text": [
      "Iter: 84,\t FLOPS: [51.94%] 66.443 MFLOPS,\t Param: [61.65%] 0.528 M,\t Left: 1703,\t Pruned Ratio: 20.16 %,\t Train Loss: 0.0353,\t Test Acc: 92.98\n"
     ]
    },
    {
     "name": "stderr",
     "output_type": "stream",
     "text": [
      "100%|█████████████████████████████████████████████████████████████| 391/391 [00:27<00:00, 14.15it/s]\n",
      "  0%|                                                                       | 0/391 [00:00<?, ?it/s]"
     ]
    },
    {
     "name": "stdout",
     "output_type": "stream",
     "text": [
      "Iter: 85,\t FLOPS: [51.65%] 66.072 MFLOPS,\t Param: [61.18%] 0.524 M,\t Left: 1699,\t Pruned Ratio: 20.35 %,\t Train Loss: 0.0360,\t Test Acc: 92.84\n"
     ]
    },
    {
     "name": "stderr",
     "output_type": "stream",
     "text": [
      "100%|█████████████████████████████████████████████████████████████| 391/391 [00:27<00:00, 14.35it/s]\n",
      "  0%|                                                                       | 0/391 [00:00<?, ?it/s]"
     ]
    },
    {
     "name": "stdout",
     "output_type": "stream",
     "text": [
      "Iter: 86,\t FLOPS: [51.36%] 65.702 MFLOPS,\t Param: [60.71%] 0.520 M,\t Left: 1695,\t Pruned Ratio: 20.54 %,\t Train Loss: 0.0370,\t Test Acc: 92.96\n"
     ]
    },
    {
     "name": "stderr",
     "output_type": "stream",
     "text": [
      "100%|█████████████████████████████████████████████████████████████| 391/391 [00:28<00:00, 13.64it/s]\n",
      "  0%|                                                                       | 0/391 [00:00<?, ?it/s]"
     ]
    },
    {
     "name": "stdout",
     "output_type": "stream",
     "text": [
      "Iter: 87,\t FLOPS: [50.89%] 65.106 MFLOPS,\t Param: [60.34%] 0.516 M,\t Left: 1691,\t Pruned Ratio: 20.72 %,\t Train Loss: 0.0356,\t Test Acc: 92.98\n"
     ]
    },
    {
     "name": "stderr",
     "output_type": "stream",
     "text": [
      "100%|█████████████████████████████████████████████████████████████| 391/391 [00:23<00:00, 16.76it/s]\n",
      "  0%|                                                                       | 0/391 [00:00<?, ?it/s]"
     ]
    },
    {
     "name": "stdout",
     "output_type": "stream",
     "text": [
      "Iter: 88,\t FLOPS: [50.60%] 64.736 MFLOPS,\t Param: [59.86%] 0.512 M,\t Left: 1687,\t Pruned Ratio: 20.91 %,\t Train Loss: 0.0393,\t Test Acc: 92.91\n"
     ]
    },
    {
     "name": "stderr",
     "output_type": "stream",
     "text": [
      "100%|█████████████████████████████████████████████████████████████| 391/391 [00:25<00:00, 15.09it/s]\n",
      "  0%|                                                                       | 0/391 [00:00<?, ?it/s]"
     ]
    },
    {
     "name": "stdout",
     "output_type": "stream",
     "text": [
      "Iter: 89,\t FLOPS: [50.25%] 64.291 MFLOPS,\t Param: [59.46%] 0.509 M,\t Left: 1683,\t Pruned Ratio: 21.10 %,\t Train Loss: 0.0384,\t Test Acc: 92.85\n",
      "Tocking:\n"
     ]
    },
    {
     "name": "stderr",
     "output_type": "stream",
     "text": [
      "100%|█████████████████████████████████████████████████████████████| 391/391 [00:29<00:00, 13.11it/s]\n",
      "  0%|                                                                       | 0/391 [00:00<?, ?it/s]"
     ]
    },
    {
     "name": "stdout",
     "output_type": "stream",
     "text": [
      "Tock - 0,\t Test Loss: 0.2889,\t Test Acc: 91.93, Final LR: 0.00280\n"
     ]
    },
    {
     "name": "stderr",
     "output_type": "stream",
     "text": [
      "100%|█████████████████████████████████████████████████████████████| 391/391 [00:32<00:00, 11.98it/s]\n",
      "  0%|                                                                       | 0/391 [00:00<?, ?it/s]"
     ]
    },
    {
     "name": "stdout",
     "output_type": "stream",
     "text": [
      "Tock - 1,\t Test Loss: 0.3376,\t Test Acc: 90.20, Final LR: 0.00460\n"
     ]
    },
    {
     "name": "stderr",
     "output_type": "stream",
     "text": [
      "100%|█████████████████████████████████████████████████████████████| 391/391 [00:31<00:00, 12.36it/s]\n",
      "  0%|                                                                       | 0/391 [00:00<?, ?it/s]"
     ]
    },
    {
     "name": "stdout",
     "output_type": "stream",
     "text": [
      "Tock - 2,\t Test Loss: 0.3738,\t Test Acc: 88.54, Final LR: 0.00640\n"
     ]
    },
    {
     "name": "stderr",
     "output_type": "stream",
     "text": [
      "100%|█████████████████████████████████████████████████████████████| 391/391 [00:32<00:00, 12.10it/s]\n",
      "  0%|                                                                       | 0/391 [00:00<?, ?it/s]"
     ]
    },
    {
     "name": "stdout",
     "output_type": "stream",
     "text": [
      "Tock - 3,\t Test Loss: 0.4205,\t Test Acc: 86.67, Final LR: 0.00820\n"
     ]
    },
    {
     "name": "stderr",
     "output_type": "stream",
     "text": [
      "100%|█████████████████████████████████████████████████████████████| 391/391 [00:29<00:00, 13.30it/s]\n",
      "  0%|                                                                       | 0/391 [00:00<?, ?it/s]"
     ]
    },
    {
     "name": "stdout",
     "output_type": "stream",
     "text": [
      "Tock - 4,\t Test Loss: 0.5211,\t Test Acc: 84.15, Final LR: 0.01000\n"
     ]
    },
    {
     "name": "stderr",
     "output_type": "stream",
     "text": [
      "100%|█████████████████████████████████████████████████████████████| 391/391 [00:31<00:00, 12.57it/s]\n",
      "  0%|                                                                       | 0/391 [00:00<?, ?it/s]"
     ]
    },
    {
     "name": "stdout",
     "output_type": "stream",
     "text": [
      "Tock - 5,\t Test Loss: 0.3442,\t Test Acc: 89.56, Final LR: 0.00820\n"
     ]
    },
    {
     "name": "stderr",
     "output_type": "stream",
     "text": [
      "100%|█████████████████████████████████████████████████████████████| 391/391 [00:31<00:00, 12.45it/s]\n",
      "  0%|                                                                       | 0/391 [00:00<?, ?it/s]"
     ]
    },
    {
     "name": "stdout",
     "output_type": "stream",
     "text": [
      "Tock - 6,\t Test Loss: 0.3411,\t Test Acc: 89.58, Final LR: 0.00640\n"
     ]
    },
    {
     "name": "stderr",
     "output_type": "stream",
     "text": [
      "100%|█████████████████████████████████████████████████████████████| 391/391 [00:31<00:00, 12.28it/s]\n",
      "  0%|                                                                       | 0/391 [00:00<?, ?it/s]"
     ]
    },
    {
     "name": "stdout",
     "output_type": "stream",
     "text": [
      "Tock - 7,\t Test Loss: 0.2894,\t Test Acc: 91.43, Final LR: 0.00460\n"
     ]
    },
    {
     "name": "stderr",
     "output_type": "stream",
     "text": [
      "100%|█████████████████████████████████████████████████████████████| 391/391 [00:27<00:00, 14.01it/s]\n",
      "  0%|                                                                       | 0/391 [00:00<?, ?it/s]"
     ]
    },
    {
     "name": "stdout",
     "output_type": "stream",
     "text": [
      "Tock - 8,\t Test Loss: 0.2537,\t Test Acc: 92.60, Final LR: 0.00280\n"
     ]
    },
    {
     "name": "stderr",
     "output_type": "stream",
     "text": [
      "100%|█████████████████████████████████████████████████████████████| 391/391 [00:31<00:00, 12.51it/s]\n",
      "  0%|                                                                       | 0/391 [00:00<?, ?it/s]"
     ]
    },
    {
     "name": "stdout",
     "output_type": "stream",
     "text": [
      "Tock - 9,\t Test Loss: 0.2339,\t Test Acc: 93.02, Final LR: 0.00100\n"
     ]
    },
    {
     "name": "stderr",
     "output_type": "stream",
     "text": [
      "100%|█████████████████████████████████████████████████████████████| 391/391 [00:27<00:00, 13.99it/s]\n",
      "  0%|                                                                       | 0/391 [00:00<?, ?it/s]"
     ]
    },
    {
     "name": "stdout",
     "output_type": "stream",
     "text": [
      "Iter: 90,\t FLOPS: [49.91%] 63.846 MFLOPS,\t Param: [59.06%] 0.505 M,\t Left: 1679,\t Pruned Ratio: 21.29 %,\t Train Loss: 0.0393,\t Test Acc: 92.65\n"
     ]
    },
    {
     "name": "stderr",
     "output_type": "stream",
     "text": [
      "100%|█████████████████████████████████████████████████████████████| 391/391 [00:28<00:00, 13.65it/s]\n",
      "  0%|                                                                       | 0/391 [00:00<?, ?it/s]"
     ]
    },
    {
     "name": "stdout",
     "output_type": "stream",
     "text": [
      "Iter: 91,\t FLOPS: [49.62%] 63.476 MFLOPS,\t Param: [58.58%] 0.501 M,\t Left: 1675,\t Pruned Ratio: 21.48 %,\t Train Loss: 0.0369,\t Test Acc: 92.94\n"
     ]
    },
    {
     "name": "stderr",
     "output_type": "stream",
     "text": [
      "100%|█████████████████████████████████████████████████████████████| 391/391 [00:28<00:00, 13.72it/s]\n",
      "  0%|                                                                       | 0/391 [00:00<?, ?it/s]"
     ]
    },
    {
     "name": "stdout",
     "output_type": "stream",
     "text": [
      "Iter: 92,\t FLOPS: [49.21%] 62.955 MFLOPS,\t Param: [58.14%] 0.498 M,\t Left: 1671,\t Pruned Ratio: 21.66 %,\t Train Loss: 0.0385,\t Test Acc: 92.88\n"
     ]
    },
    {
     "name": "stderr",
     "output_type": "stream",
     "text": [
      "100%|█████████████████████████████████████████████████████████████| 391/391 [00:28<00:00, 13.91it/s]\n",
      "  0%|                                                                       | 0/391 [00:00<?, ?it/s]"
     ]
    },
    {
     "name": "stdout",
     "output_type": "stream",
     "text": [
      "Iter: 93,\t FLOPS: [48.80%] 62.434 MFLOPS,\t Param: [57.71%] 0.494 M,\t Left: 1667,\t Pruned Ratio: 21.85 %,\t Train Loss: 0.0389,\t Test Acc: 92.88\n"
     ]
    },
    {
     "name": "stderr",
     "output_type": "stream",
     "text": [
      "100%|█████████████████████████████████████████████████████████████| 391/391 [00:28<00:00, 13.68it/s]\n",
      "  0%|                                                                       | 0/391 [00:00<?, ?it/s]"
     ]
    },
    {
     "name": "stdout",
     "output_type": "stream",
     "text": [
      "Iter: 94,\t FLOPS: [48.57%] 62.138 MFLOPS,\t Param: [57.17%] 0.489 M,\t Left: 1663,\t Pruned Ratio: 22.04 %,\t Train Loss: 0.0406,\t Test Acc: 92.86\n"
     ]
    },
    {
     "name": "stderr",
     "output_type": "stream",
     "text": [
      "100%|█████████████████████████████████████████████████████████████| 391/391 [00:22<00:00, 17.00it/s]\n",
      "  0%|                                                                       | 0/391 [00:00<?, ?it/s]"
     ]
    },
    {
     "name": "stdout",
     "output_type": "stream",
     "text": [
      "Iter: 95,\t FLOPS: [48.34%] 61.842 MFLOPS,\t Param: [56.63%] 0.485 M,\t Left: 1659,\t Pruned Ratio: 22.23 %,\t Train Loss: 0.0411,\t Test Acc: 92.86\n"
     ]
    },
    {
     "name": "stderr",
     "output_type": "stream",
     "text": [
      "100%|█████████████████████████████████████████████████████████████| 391/391 [00:28<00:00, 13.65it/s]\n",
      "  0%|                                                                       | 0/391 [00:00<?, ?it/s]"
     ]
    },
    {
     "name": "stdout",
     "output_type": "stream",
     "text": [
      "Iter: 96,\t FLOPS: [47.99%] 61.397 MFLOPS,\t Param: [56.22%] 0.481 M,\t Left: 1655,\t Pruned Ratio: 22.42 %,\t Train Loss: 0.0403,\t Test Acc: 92.95\n"
     ]
    },
    {
     "name": "stderr",
     "output_type": "stream",
     "text": [
      "100%|█████████████████████████████████████████████████████████████| 391/391 [00:22<00:00, 17.25it/s]\n",
      "  0%|                                                                       | 0/391 [00:00<?, ?it/s]"
     ]
    },
    {
     "name": "stdout",
     "output_type": "stream",
     "text": [
      "Iter: 97,\t FLOPS: [47.58%] 60.876 MFLOPS,\t Param: [55.78%] 0.477 M,\t Left: 1651,\t Pruned Ratio: 22.60 %,\t Train Loss: 0.0421,\t Test Acc: 92.71\n"
     ]
    },
    {
     "name": "stderr",
     "output_type": "stream",
     "text": [
      "100%|█████████████████████████████████████████████████████████████| 391/391 [00:22<00:00, 17.35it/s]\n",
      "  0%|                                                                       | 0/391 [00:00<?, ?it/s]"
     ]
    },
    {
     "name": "stdout",
     "output_type": "stream",
     "text": [
      "Iter: 98,\t FLOPS: [47.12%] 60.280 MFLOPS,\t Param: [55.41%] 0.474 M,\t Left: 1647,\t Pruned Ratio: 22.79 %,\t Train Loss: 0.0428,\t Test Acc: 92.41\n"
     ]
    },
    {
     "name": "stderr",
     "output_type": "stream",
     "text": [
      "100%|█████████████████████████████████████████████████████████████| 391/391 [00:28<00:00, 13.68it/s]\n",
      "  0%|                                                                       | 0/391 [00:00<?, ?it/s]"
     ]
    },
    {
     "name": "stdout",
     "output_type": "stream",
     "text": [
      "Iter: 99,\t FLOPS: [46.89%] 59.984 MFLOPS,\t Param: [54.87%] 0.470 M,\t Left: 1643,\t Pruned Ratio: 22.98 %,\t Train Loss: 0.0435,\t Test Acc: 92.48\n",
      "Tocking:\n"
     ]
    },
    {
     "name": "stderr",
     "output_type": "stream",
     "text": [
      "100%|█████████████████████████████████████████████████████████████| 391/391 [00:31<00:00, 12.23it/s]\n",
      "  0%|                                                                       | 0/391 [00:00<?, ?it/s]"
     ]
    },
    {
     "name": "stdout",
     "output_type": "stream",
     "text": [
      "Tock - 0,\t Test Loss: 0.3225,\t Test Acc: 91.16, Final LR: 0.00280\n"
     ]
    },
    {
     "name": "stderr",
     "output_type": "stream",
     "text": [
      "100%|█████████████████████████████████████████████████████████████| 391/391 [00:31<00:00, 12.57it/s]\n",
      "  0%|                                                                       | 0/391 [00:00<?, ?it/s]"
     ]
    },
    {
     "name": "stdout",
     "output_type": "stream",
     "text": [
      "Tock - 1,\t Test Loss: 0.3607,\t Test Acc: 89.47, Final LR: 0.00460\n"
     ]
    },
    {
     "name": "stderr",
     "output_type": "stream",
     "text": [
      "100%|█████████████████████████████████████████████████████████████| 391/391 [00:32<00:00, 11.93it/s]\n",
      "  0%|                                                                       | 0/391 [00:00<?, ?it/s]"
     ]
    },
    {
     "name": "stdout",
     "output_type": "stream",
     "text": [
      "Tock - 2,\t Test Loss: 0.3810,\t Test Acc: 88.95, Final LR: 0.00640\n"
     ]
    },
    {
     "name": "stderr",
     "output_type": "stream",
     "text": [
      "100%|█████████████████████████████████████████████████████████████| 391/391 [00:32<00:00, 12.12it/s]\n",
      "  0%|                                                                       | 0/391 [00:00<?, ?it/s]"
     ]
    },
    {
     "name": "stdout",
     "output_type": "stream",
     "text": [
      "Tock - 3,\t Test Loss: 0.4646,\t Test Acc: 85.95, Final LR: 0.00820\n"
     ]
    },
    {
     "name": "stderr",
     "output_type": "stream",
     "text": [
      "100%|█████████████████████████████████████████████████████████████| 391/391 [00:31<00:00, 12.30it/s]\n",
      "  0%|                                                                       | 0/391 [00:00<?, ?it/s]"
     ]
    },
    {
     "name": "stdout",
     "output_type": "stream",
     "text": [
      "Tock - 4,\t Test Loss: 0.5233,\t Test Acc: 84.27, Final LR: 0.01000\n"
     ]
    },
    {
     "name": "stderr",
     "output_type": "stream",
     "text": [
      "100%|█████████████████████████████████████████████████████████████| 391/391 [00:32<00:00, 12.01it/s]\n",
      "  0%|                                                                       | 0/391 [00:00<?, ?it/s]"
     ]
    },
    {
     "name": "stdout",
     "output_type": "stream",
     "text": [
      "Tock - 5,\t Test Loss: 0.4554,\t Test Acc: 86.26, Final LR: 0.00820\n"
     ]
    },
    {
     "name": "stderr",
     "output_type": "stream",
     "text": [
      "100%|█████████████████████████████████████████████████████████████| 391/391 [00:32<00:00, 12.07it/s]\n",
      "  0%|                                                                       | 0/391 [00:00<?, ?it/s]"
     ]
    },
    {
     "name": "stdout",
     "output_type": "stream",
     "text": [
      "Tock - 6,\t Test Loss: 0.3258,\t Test Acc: 90.17, Final LR: 0.00640\n"
     ]
    },
    {
     "name": "stderr",
     "output_type": "stream",
     "text": [
      "100%|█████████████████████████████████████████████████████████████| 391/391 [00:30<00:00, 12.92it/s]\n",
      "  0%|                                                                       | 0/391 [00:00<?, ?it/s]"
     ]
    },
    {
     "name": "stdout",
     "output_type": "stream",
     "text": [
      "Tock - 7,\t Test Loss: 0.3246,\t Test Acc: 90.61, Final LR: 0.00460\n"
     ]
    },
    {
     "name": "stderr",
     "output_type": "stream",
     "text": [
      "100%|█████████████████████████████████████████████████████████████| 391/391 [00:31<00:00, 12.40it/s]\n",
      "  0%|                                                                       | 0/391 [00:00<?, ?it/s]"
     ]
    },
    {
     "name": "stdout",
     "output_type": "stream",
     "text": [
      "Tock - 8,\t Test Loss: 0.2457,\t Test Acc: 92.59, Final LR: 0.00280\n"
     ]
    },
    {
     "name": "stderr",
     "output_type": "stream",
     "text": [
      "100%|█████████████████████████████████████████████████████████████| 391/391 [00:31<00:00, 12.36it/s]\n",
      "  0%|                                                                       | 0/391 [00:00<?, ?it/s]"
     ]
    },
    {
     "name": "stdout",
     "output_type": "stream",
     "text": [
      "Tock - 9,\t Test Loss: 0.2292,\t Test Acc: 93.16, Final LR: 0.00100\n"
     ]
    },
    {
     "name": "stderr",
     "output_type": "stream",
     "text": [
      "100%|█████████████████████████████████████████████████████████████| 391/391 [00:28<00:00, 13.67it/s]\n",
      "  0%|                                                                       | 0/391 [00:00<?, ?it/s]"
     ]
    },
    {
     "name": "stdout",
     "output_type": "stream",
     "text": [
      "Iter: 100,\t FLOPS: [46.54%] 59.540 MFLOPS,\t Param: [54.47%] 0.466 M,\t Left: 1639,\t Pruned Ratio: 23.17 %,\t Train Loss: 0.0414,\t Test Acc: 93.14\n"
     ]
    },
    {
     "name": "stderr",
     "output_type": "stream",
     "text": [
      "100%|█████████████████████████████████████████████████████████████| 391/391 [00:24<00:00, 15.79it/s]\n",
      "  0%|                                                                       | 0/391 [00:00<?, ?it/s]"
     ]
    },
    {
     "name": "stdout",
     "output_type": "stream",
     "text": [
      "Iter: 101,\t FLOPS: [46.13%] 59.020 MFLOPS,\t Param: [54.13%] 0.463 M,\t Left: 1635,\t Pruned Ratio: 23.36 %,\t Train Loss: 0.0408,\t Test Acc: 93.01\n"
     ]
    },
    {
     "name": "stderr",
     "output_type": "stream",
     "text": [
      "100%|█████████████████████████████████████████████████████████████| 391/391 [00:27<00:00, 14.08it/s]\n",
      "  0%|                                                                       | 0/391 [00:00<?, ?it/s]"
     ]
    },
    {
     "name": "stdout",
     "output_type": "stream",
     "text": [
      "Iter: 102,\t FLOPS: [45.67%] 58.425 MFLOPS,\t Param: [53.76%] 0.460 M,\t Left: 1631,\t Pruned Ratio: 23.54 %,\t Train Loss: 0.0420,\t Test Acc: 93.33\n"
     ]
    },
    {
     "name": "stderr",
     "output_type": "stream",
     "text": [
      "100%|█████████████████████████████████████████████████████████████| 391/391 [00:22<00:00, 17.18it/s]\n",
      "  0%|                                                                       | 0/391 [00:00<?, ?it/s]"
     ]
    },
    {
     "name": "stdout",
     "output_type": "stream",
     "text": [
      "Iter: 103,\t FLOPS: [45.38%] 58.054 MFLOPS,\t Param: [53.29%] 0.456 M,\t Left: 1627,\t Pruned Ratio: 23.73 %,\t Train Loss: 0.0406,\t Test Acc: 92.97\n"
     ]
    },
    {
     "name": "stderr",
     "output_type": "stream",
     "text": [
      "100%|█████████████████████████████████████████████████████████████| 391/391 [00:25<00:00, 15.30it/s]\n",
      "  0%|                                                                       | 0/391 [00:00<?, ?it/s]"
     ]
    },
    {
     "name": "stdout",
     "output_type": "stream",
     "text": [
      "Iter: 104,\t FLOPS: [44.91%] 57.459 MFLOPS,\t Param: [52.92%] 0.453 M,\t Left: 1623,\t Pruned Ratio: 23.92 %,\t Train Loss: 0.0425,\t Test Acc: 92.89\n"
     ]
    },
    {
     "name": "stderr",
     "output_type": "stream",
     "text": [
      "100%|█████████████████████████████████████████████████████████████| 391/391 [00:27<00:00, 14.26it/s]\n",
      "  0%|                                                                       | 0/391 [00:00<?, ?it/s]"
     ]
    },
    {
     "name": "stdout",
     "output_type": "stream",
     "text": [
      "Iter: 105,\t FLOPS: [44.68%] 57.163 MFLOPS,\t Param: [52.38%] 0.448 M,\t Left: 1619,\t Pruned Ratio: 24.11 %,\t Train Loss: 0.0440,\t Test Acc: 93.10\n"
     ]
    },
    {
     "name": "stderr",
     "output_type": "stream",
     "text": [
      "100%|█████████████████████████████████████████████████████████████| 391/391 [00:27<00:00, 13.97it/s]\n",
      "  0%|                                                                       | 0/391 [00:00<?, ?it/s]"
     ]
    },
    {
     "name": "stdout",
     "output_type": "stream",
     "text": [
      "Iter: 106,\t FLOPS: [44.28%] 56.642 MFLOPS,\t Param: [51.94%] 0.444 M,\t Left: 1615,\t Pruned Ratio: 24.30 %,\t Train Loss: 0.0456,\t Test Acc: 92.92\n"
     ]
    },
    {
     "name": "stderr",
     "output_type": "stream",
     "text": [
      "100%|█████████████████████████████████████████████████████████████| 391/391 [00:28<00:00, 13.90it/s]\n",
      "  0%|                                                                       | 0/391 [00:00<?, ?it/s]"
     ]
    },
    {
     "name": "stdout",
     "output_type": "stream",
     "text": [
      "Iter: 107,\t FLOPS: [43.69%] 55.897 MFLOPS,\t Param: [51.70%] 0.442 M,\t Left: 1611,\t Pruned Ratio: 24.48 %,\t Train Loss: 0.0444,\t Test Acc: 92.99\n"
     ]
    },
    {
     "name": "stderr",
     "output_type": "stream",
     "text": [
      "100%|█████████████████████████████████████████████████████████████| 391/391 [00:28<00:00, 13.74it/s]\n",
      "  0%|                                                                       | 0/391 [00:00<?, ?it/s]"
     ]
    },
    {
     "name": "stdout",
     "output_type": "stream",
     "text": [
      "Iter: 108,\t FLOPS: [43.23%] 55.302 MFLOPS,\t Param: [51.33%] 0.439 M,\t Left: 1607,\t Pruned Ratio: 24.67 %,\t Train Loss: 0.0482,\t Test Acc: 92.83\n"
     ]
    },
    {
     "name": "stderr",
     "output_type": "stream",
     "text": [
      "100%|█████████████████████████████████████████████████████████████| 391/391 [00:22<00:00, 17.38it/s]\n",
      "  0%|                                                                       | 0/391 [00:00<?, ?it/s]"
     ]
    },
    {
     "name": "stdout",
     "output_type": "stream",
     "text": [
      "Iter: 109,\t FLOPS: [43.00%] 55.006 MFLOPS,\t Param: [50.79%] 0.435 M,\t Left: 1603,\t Pruned Ratio: 24.86 %,\t Train Loss: 0.0479,\t Test Acc: 92.68\n",
      "Tocking:\n"
     ]
    },
    {
     "name": "stderr",
     "output_type": "stream",
     "text": [
      "100%|█████████████████████████████████████████████████████████████| 391/391 [00:31<00:00, 12.25it/s]\n",
      "  0%|                                                                       | 0/391 [00:00<?, ?it/s]"
     ]
    },
    {
     "name": "stdout",
     "output_type": "stream",
     "text": [
      "Tock - 0,\t Test Loss: 0.2882,\t Test Acc: 91.47, Final LR: 0.00280\n"
     ]
    },
    {
     "name": "stderr",
     "output_type": "stream",
     "text": [
      "100%|█████████████████████████████████████████████████████████████| 391/391 [00:31<00:00, 12.45it/s]\n",
      "  0%|                                                                       | 0/391 [00:00<?, ?it/s]"
     ]
    },
    {
     "name": "stdout",
     "output_type": "stream",
     "text": [
      "Tock - 1,\t Test Loss: 0.3678,\t Test Acc: 89.73, Final LR: 0.00460\n"
     ]
    },
    {
     "name": "stderr",
     "output_type": "stream",
     "text": [
      "100%|█████████████████████████████████████████████████████████████| 391/391 [00:28<00:00, 13.85it/s]\n",
      "  0%|                                                                       | 0/391 [00:00<?, ?it/s]"
     ]
    },
    {
     "name": "stdout",
     "output_type": "stream",
     "text": [
      "Tock - 2,\t Test Loss: 0.3365,\t Test Acc: 89.84, Final LR: 0.00640\n"
     ]
    },
    {
     "name": "stderr",
     "output_type": "stream",
     "text": [
      "100%|█████████████████████████████████████████████████████████████| 391/391 [00:32<00:00, 12.14it/s]\n",
      "  0%|                                                                       | 0/391 [00:00<?, ?it/s]"
     ]
    },
    {
     "name": "stdout",
     "output_type": "stream",
     "text": [
      "Tock - 3,\t Test Loss: 0.4524,\t Test Acc: 86.00, Final LR: 0.00820\n"
     ]
    },
    {
     "name": "stderr",
     "output_type": "stream",
     "text": [
      "100%|█████████████████████████████████████████████████████████████| 391/391 [00:31<00:00, 12.37it/s]\n",
      "  0%|                                                                       | 0/391 [00:00<?, ?it/s]"
     ]
    },
    {
     "name": "stdout",
     "output_type": "stream",
     "text": [
      "Tock - 4,\t Test Loss: 0.4018,\t Test Acc: 86.75, Final LR: 0.01000\n"
     ]
    },
    {
     "name": "stderr",
     "output_type": "stream",
     "text": [
      "100%|█████████████████████████████████████████████████████████████| 391/391 [00:31<00:00, 12.32it/s]\n",
      "  0%|                                                                       | 0/391 [00:00<?, ?it/s]"
     ]
    },
    {
     "name": "stdout",
     "output_type": "stream",
     "text": [
      "Tock - 5,\t Test Loss: 0.3555,\t Test Acc: 88.89, Final LR: 0.00820\n"
     ]
    },
    {
     "name": "stderr",
     "output_type": "stream",
     "text": [
      "100%|█████████████████████████████████████████████████████████████| 391/391 [00:32<00:00, 12.21it/s]\n",
      "  0%|                                                                       | 0/391 [00:00<?, ?it/s]"
     ]
    },
    {
     "name": "stdout",
     "output_type": "stream",
     "text": [
      "Tock - 6,\t Test Loss: 0.3504,\t Test Acc: 89.47, Final LR: 0.00640\n"
     ]
    },
    {
     "name": "stderr",
     "output_type": "stream",
     "text": [
      "100%|█████████████████████████████████████████████████████████████| 391/391 [00:32<00:00, 12.08it/s]\n",
      "  0%|                                                                       | 0/391 [00:00<?, ?it/s]"
     ]
    },
    {
     "name": "stdout",
     "output_type": "stream",
     "text": [
      "Tock - 7,\t Test Loss: 0.2923,\t Test Acc: 91.36, Final LR: 0.00460\n"
     ]
    },
    {
     "name": "stderr",
     "output_type": "stream",
     "text": [
      "100%|█████████████████████████████████████████████████████████████| 391/391 [00:27<00:00, 14.02it/s]\n",
      "  0%|                                                                       | 0/391 [00:00<?, ?it/s]"
     ]
    },
    {
     "name": "stdout",
     "output_type": "stream",
     "text": [
      "Tock - 8,\t Test Loss: 0.2713,\t Test Acc: 92.07, Final LR: 0.00280\n"
     ]
    },
    {
     "name": "stderr",
     "output_type": "stream",
     "text": [
      "100%|█████████████████████████████████████████████████████████████| 391/391 [00:29<00:00, 13.33it/s]\n",
      "  0%|                                                                       | 0/391 [00:00<?, ?it/s]"
     ]
    },
    {
     "name": "stdout",
     "output_type": "stream",
     "text": [
      "Tock - 9,\t Test Loss: 0.2389,\t Test Acc: 92.88, Final LR: 0.00100\n"
     ]
    },
    {
     "name": "stderr",
     "output_type": "stream",
     "text": [
      "100%|█████████████████████████████████████████████████████████████| 391/391 [00:28<00:00, 13.90it/s]\n",
      "  0%|                                                                       | 0/391 [00:00<?, ?it/s]"
     ]
    },
    {
     "name": "stdout",
     "output_type": "stream",
     "text": [
      "Iter: 110,\t FLOPS: [42.47%] 54.336 MFLOPS,\t Param: [50.49%] 0.432 M,\t Left: 1599,\t Pruned Ratio: 25.05 %,\t Train Loss: 0.0454,\t Test Acc: 92.90\n"
     ]
    },
    {
     "name": "stderr",
     "output_type": "stream",
     "text": [
      "100%|█████████████████████████████████████████████████████████████| 391/391 [00:23<00:00, 16.65it/s]\n",
      "  0%|                                                                       | 0/391 [00:00<?, ?it/s]"
     ]
    },
    {
     "name": "stdout",
     "output_type": "stream",
     "text": [
      "Iter: 111,\t FLOPS: [42.01%] 53.741 MFLOPS,\t Param: [50.12%] 0.429 M,\t Left: 1595,\t Pruned Ratio: 25.23 %,\t Train Loss: 0.0451,\t Test Acc: 92.87\n"
     ]
    },
    {
     "name": "stderr",
     "output_type": "stream",
     "text": [
      "100%|█████████████████████████████████████████████████████████████| 391/391 [00:23<00:00, 16.81it/s]\n",
      "  0%|                                                                       | 0/391 [00:00<?, ?it/s]"
     ]
    },
    {
     "name": "stdout",
     "output_type": "stream",
     "text": [
      "Iter: 112,\t FLOPS: [41.72%] 53.370 MFLOPS,\t Param: [49.65%] 0.425 M,\t Left: 1591,\t Pruned Ratio: 25.42 %,\t Train Loss: 0.0453,\t Test Acc: 93.04\n"
     ]
    },
    {
     "name": "stderr",
     "output_type": "stream",
     "text": [
      "100%|█████████████████████████████████████████████████████████████| 391/391 [00:27<00:00, 14.15it/s]\n",
      "  0%|                                                                       | 0/391 [00:00<?, ?it/s]"
     ]
    },
    {
     "name": "stdout",
     "output_type": "stream",
     "text": [
      "Iter: 113,\t FLOPS: [41.43%] 53.000 MFLOPS,\t Param: [49.17%] 0.421 M,\t Left: 1587,\t Pruned Ratio: 25.61 %,\t Train Loss: 0.0468,\t Test Acc: 92.85\n"
     ]
    },
    {
     "name": "stderr",
     "output_type": "stream",
     "text": [
      "100%|█████████████████████████████████████████████████████████████| 391/391 [00:28<00:00, 13.66it/s]\n",
      "  0%|                                                                       | 0/391 [00:00<?, ?it/s]"
     ]
    },
    {
     "name": "stdout",
     "output_type": "stream",
     "text": [
      "Iter: 114,\t FLOPS: [40.85%] 52.254 MFLOPS,\t Param: [48.84%] 0.418 M,\t Left: 1583,\t Pruned Ratio: 25.80 %,\t Train Loss: 0.0458,\t Test Acc: 92.85\n"
     ]
    },
    {
     "name": "stderr",
     "output_type": "stream",
     "text": [
      "100%|█████████████████████████████████████████████████████████████| 391/391 [00:23<00:00, 16.66it/s]\n",
      "  0%|                                                                       | 0/391 [00:00<?, ?it/s]"
     ]
    },
    {
     "name": "stdout",
     "output_type": "stream",
     "text": [
      "Iter: 115,\t FLOPS: [40.56%] 51.883 MFLOPS,\t Param: [48.36%] 0.414 M,\t Left: 1579,\t Pruned Ratio: 25.99 %,\t Train Loss: 0.0491,\t Test Acc: 92.92\n"
     ]
    },
    {
     "name": "stderr",
     "output_type": "stream",
     "text": [
      "100%|█████████████████████████████████████████████████████████████| 391/391 [00:26<00:00, 14.55it/s]\n",
      "  0%|                                                                       | 0/391 [00:00<?, ?it/s]"
     ]
    },
    {
     "name": "stdout",
     "output_type": "stream",
     "text": [
      "Iter: 116,\t FLOPS: [40.15%] 51.362 MFLOPS,\t Param: [47.93%] 0.410 M,\t Left: 1575,\t Pruned Ratio: 26.17 %,\t Train Loss: 0.0517,\t Test Acc: 92.92\n"
     ]
    },
    {
     "name": "stderr",
     "output_type": "stream",
     "text": [
      "100%|█████████████████████████████████████████████████████████████| 391/391 [00:28<00:00, 13.51it/s]\n",
      "  0%|                                                                       | 0/391 [00:00<?, ?it/s]"
     ]
    },
    {
     "name": "stdout",
     "output_type": "stream",
     "text": [
      "Iter: 117,\t FLOPS: [39.86%] 50.992 MFLOPS,\t Param: [47.45%] 0.406 M,\t Left: 1571,\t Pruned Ratio: 26.36 %,\t Train Loss: 0.0530,\t Test Acc: 92.79\n"
     ]
    },
    {
     "name": "stderr",
     "output_type": "stream",
     "text": [
      "100%|█████████████████████████████████████████████████████████████| 391/391 [00:28<00:00, 13.85it/s]\n",
      "  0%|                                                                       | 0/391 [00:00<?, ?it/s]"
     ]
    },
    {
     "name": "stdout",
     "output_type": "stream",
     "text": [
      "Iter: 118,\t FLOPS: [39.51%] 50.547 MFLOPS,\t Param: [47.05%] 0.403 M,\t Left: 1567,\t Pruned Ratio: 26.55 %,\t Train Loss: 0.0541,\t Test Acc: 92.45\n"
     ]
    },
    {
     "name": "stderr",
     "output_type": "stream",
     "text": [
      "100%|█████████████████████████████████████████████████████████████| 391/391 [00:28<00:00, 13.66it/s]\n",
      "  0%|                                                                       | 0/391 [00:00<?, ?it/s]"
     ]
    },
    {
     "name": "stdout",
     "output_type": "stream",
     "text": [
      "Iter: 119,\t FLOPS: [39.28%] 50.251 MFLOPS,\t Param: [46.51%] 0.398 M,\t Left: 1563,\t Pruned Ratio: 26.74 %,\t Train Loss: 0.0562,\t Test Acc: 92.06\n",
      "Tocking:\n"
     ]
    },
    {
     "name": "stderr",
     "output_type": "stream",
     "text": [
      "100%|█████████████████████████████████████████████████████████████| 391/391 [00:31<00:00, 12.35it/s]\n",
      "  0%|                                                                       | 0/391 [00:00<?, ?it/s]"
     ]
    },
    {
     "name": "stdout",
     "output_type": "stream",
     "text": [
      "Tock - 0,\t Test Loss: 0.2928,\t Test Acc: 91.90, Final LR: 0.00280\n"
     ]
    },
    {
     "name": "stderr",
     "output_type": "stream",
     "text": [
      "100%|█████████████████████████████████████████████████████████████| 391/391 [00:32<00:00, 12.18it/s]\n",
      "  0%|                                                                       | 0/391 [00:00<?, ?it/s]"
     ]
    },
    {
     "name": "stdout",
     "output_type": "stream",
     "text": [
      "Tock - 1,\t Test Loss: 0.3345,\t Test Acc: 89.62, Final LR: 0.00460\n"
     ]
    },
    {
     "name": "stderr",
     "output_type": "stream",
     "text": [
      "100%|█████████████████████████████████████████████████████████████| 391/391 [00:31<00:00, 12.60it/s]\n",
      "  0%|                                                                       | 0/391 [00:00<?, ?it/s]"
     ]
    },
    {
     "name": "stdout",
     "output_type": "stream",
     "text": [
      "Tock - 2,\t Test Loss: 0.4605,\t Test Acc: 87.18, Final LR: 0.00640\n"
     ]
    },
    {
     "name": "stderr",
     "output_type": "stream",
     "text": [
      "100%|█████████████████████████████████████████████████████████████| 391/391 [00:28<00:00, 13.67it/s]\n",
      "  0%|                                                                       | 0/391 [00:00<?, ?it/s]"
     ]
    },
    {
     "name": "stdout",
     "output_type": "stream",
     "text": [
      "Tock - 3,\t Test Loss: 0.5231,\t Test Acc: 84.39, Final LR: 0.00820\n"
     ]
    },
    {
     "name": "stderr",
     "output_type": "stream",
     "text": [
      "100%|█████████████████████████████████████████████████████████████| 391/391 [00:31<00:00, 12.33it/s]\n",
      "  0%|                                                                       | 0/391 [00:00<?, ?it/s]"
     ]
    },
    {
     "name": "stdout",
     "output_type": "stream",
     "text": [
      "Tock - 4,\t Test Loss: 0.4436,\t Test Acc: 85.94, Final LR: 0.01000\n"
     ]
    },
    {
     "name": "stderr",
     "output_type": "stream",
     "text": [
      "100%|█████████████████████████████████████████████████████████████| 391/391 [00:30<00:00, 12.71it/s]\n",
      "  0%|                                                                       | 0/391 [00:00<?, ?it/s]"
     ]
    },
    {
     "name": "stdout",
     "output_type": "stream",
     "text": [
      "Tock - 5,\t Test Loss: 0.3939,\t Test Acc: 87.60, Final LR: 0.00820\n"
     ]
    },
    {
     "name": "stderr",
     "output_type": "stream",
     "text": [
      "100%|█████████████████████████████████████████████████████████████| 391/391 [00:31<00:00, 12.34it/s]\n",
      "  0%|                                                                       | 0/391 [00:00<?, ?it/s]"
     ]
    },
    {
     "name": "stdout",
     "output_type": "stream",
     "text": [
      "Tock - 6,\t Test Loss: 0.3440,\t Test Acc: 89.73, Final LR: 0.00640\n"
     ]
    },
    {
     "name": "stderr",
     "output_type": "stream",
     "text": [
      "100%|█████████████████████████████████████████████████████████████| 391/391 [00:31<00:00, 12.25it/s]\n",
      "  0%|                                                                       | 0/391 [00:00<?, ?it/s]"
     ]
    },
    {
     "name": "stdout",
     "output_type": "stream",
     "text": [
      "Tock - 7,\t Test Loss: 0.3156,\t Test Acc: 90.36, Final LR: 0.00460\n"
     ]
    },
    {
     "name": "stderr",
     "output_type": "stream",
     "text": [
      "100%|█████████████████████████████████████████████████████████████| 391/391 [00:32<00:00, 12.07it/s]\n",
      "  0%|                                                                       | 0/391 [00:00<?, ?it/s]"
     ]
    },
    {
     "name": "stdout",
     "output_type": "stream",
     "text": [
      "Tock - 8,\t Test Loss: 0.2783,\t Test Acc: 91.67, Final LR: 0.00280\n"
     ]
    },
    {
     "name": "stderr",
     "output_type": "stream",
     "text": [
      "100%|█████████████████████████████████████████████████████████████| 391/391 [00:31<00:00, 12.53it/s]\n",
      "  0%|                                                                       | 0/391 [00:00<?, ?it/s]"
     ]
    },
    {
     "name": "stdout",
     "output_type": "stream",
     "text": [
      "Tock - 9,\t Test Loss: 0.2477,\t Test Acc: 92.68, Final LR: 0.00100\n"
     ]
    },
    {
     "name": "stderr",
     "output_type": "stream",
     "text": [
      "100%|█████████████████████████████████████████████████████████████| 391/391 [00:28<00:00, 13.88it/s]\n",
      "  0%|                                                                       | 0/391 [00:00<?, ?it/s]"
     ]
    },
    {
     "name": "stdout",
     "output_type": "stream",
     "text": [
      "Iter: 120,\t FLOPS: [38.99%] 49.881 MFLOPS,\t Param: [46.04%] 0.394 M,\t Left: 1559,\t Pruned Ratio: 26.93 %,\t Train Loss: 0.0498,\t Test Acc: 92.71\n"
     ]
    },
    {
     "name": "stderr",
     "output_type": "stream",
     "text": [
      "100%|█████████████████████████████████████████████████████████████| 391/391 [00:28<00:00, 13.68it/s]\n",
      "  0%|                                                                       | 0/391 [00:00<?, ?it/s]"
     ]
    },
    {
     "name": "stdout",
     "output_type": "stream",
     "text": [
      "Iter: 121,\t FLOPS: [38.76%] 49.585 MFLOPS,\t Param: [45.50%] 0.389 M,\t Left: 1555,\t Pruned Ratio: 27.11 %,\t Train Loss: 0.0505,\t Test Acc: 91.87\n"
     ]
    },
    {
     "name": "stderr",
     "output_type": "stream",
     "text": [
      "100%|█████████████████████████████████████████████████████████████| 391/391 [00:28<00:00, 13.74it/s]\n",
      "  0%|                                                                       | 0/391 [00:00<?, ?it/s]"
     ]
    },
    {
     "name": "stdout",
     "output_type": "stream",
     "text": [
      "Iter: 122,\t FLOPS: [38.53%] 49.289 MFLOPS,\t Param: [44.96%] 0.385 M,\t Left: 1551,\t Pruned Ratio: 27.30 %,\t Train Loss: 0.0506,\t Test Acc: 92.54\n"
     ]
    },
    {
     "name": "stderr",
     "output_type": "stream",
     "text": [
      "100%|█████████████████████████████████████████████████████████████| 391/391 [00:26<00:00, 14.59it/s]\n",
      "  0%|                                                                       | 0/391 [00:00<?, ?it/s]"
     ]
    },
    {
     "name": "stdout",
     "output_type": "stream",
     "text": [
      "Iter: 123,\t FLOPS: [38.30%] 48.993 MFLOPS,\t Param: [44.42%] 0.380 M,\t Left: 1547,\t Pruned Ratio: 27.49 %,\t Train Loss: 0.0528,\t Test Acc: 92.37\n"
     ]
    },
    {
     "name": "stderr",
     "output_type": "stream",
     "text": [
      "100%|█████████████████████████████████████████████████████████████| 391/391 [00:26<00:00, 14.81it/s]\n",
      "  0%|                                                                       | 0/391 [00:00<?, ?it/s]"
     ]
    },
    {
     "name": "stdout",
     "output_type": "stream",
     "text": [
      "Iter: 124,\t FLOPS: [37.98%] 48.585 MFLOPS,\t Param: [44.03%] 0.377 M,\t Left: 1543,\t Pruned Ratio: 27.68 %,\t Train Loss: 0.0564,\t Test Acc: 92.01\n"
     ]
    },
    {
     "name": "stderr",
     "output_type": "stream",
     "text": [
      "100%|█████████████████████████████████████████████████████████████| 391/391 [00:28<00:00, 13.77it/s]\n",
      "  0%|                                                                       | 0/391 [00:00<?, ?it/s]"
     ]
    },
    {
     "name": "stdout",
     "output_type": "stream",
     "text": [
      "Iter: 125,\t FLOPS: [37.75%] 48.289 MFLOPS,\t Param: [43.49%] 0.372 M,\t Left: 1539,\t Pruned Ratio: 27.87 %,\t Train Loss: 0.0573,\t Test Acc: 91.91\n"
     ]
    },
    {
     "name": "stderr",
     "output_type": "stream",
     "text": [
      "100%|█████████████████████████████████████████████████████████████| 391/391 [00:26<00:00, 14.73it/s]\n",
      "  0%|                                                                       | 0/391 [00:00<?, ?it/s]"
     ]
    },
    {
     "name": "stdout",
     "output_type": "stream",
     "text": [
      "Iter: 126,\t FLOPS: [37.40%] 47.844 MFLOPS,\t Param: [43.09%] 0.369 M,\t Left: 1535,\t Pruned Ratio: 28.05 %,\t Train Loss: 0.0592,\t Test Acc: 92.32\n"
     ]
    },
    {
     "name": "stderr",
     "output_type": "stream",
     "text": [
      "100%|█████████████████████████████████████████████████████████████| 391/391 [00:23<00:00, 16.63it/s]\n",
      "  0%|                                                                       | 0/391 [00:00<?, ?it/s]"
     ]
    },
    {
     "name": "stdout",
     "output_type": "stream",
     "text": [
      "Iter: 127,\t FLOPS: [37.11%] 47.473 MFLOPS,\t Param: [42.61%] 0.365 M,\t Left: 1531,\t Pruned Ratio: 28.24 %,\t Train Loss: 0.0644,\t Test Acc: 92.00\n"
     ]
    },
    {
     "name": "stderr",
     "output_type": "stream",
     "text": [
      "100%|█████████████████████████████████████████████████████████████| 391/391 [00:22<00:00, 17.11it/s]\n",
      "  0%|                                                                       | 0/391 [00:00<?, ?it/s]"
     ]
    },
    {
     "name": "stdout",
     "output_type": "stream",
     "text": [
      "Iter: 128,\t FLOPS: [36.89%] 47.196 MFLOPS,\t Param: [42.11%] 0.360 M,\t Left: 1527,\t Pruned Ratio: 28.43 %,\t Train Loss: 0.0649,\t Test Acc: 91.66\n"
     ]
    },
    {
     "name": "stderr",
     "output_type": "stream",
     "text": [
      "100%|█████████████████████████████████████████████████████████████| 391/391 [00:26<00:00, 14.70it/s]\n",
      "  0%|                                                                       | 0/391 [00:00<?, ?it/s]"
     ]
    },
    {
     "name": "stdout",
     "output_type": "stream",
     "text": [
      "Iter: 129,\t FLOPS: [36.66%] 46.900 MFLOPS,\t Param: [41.57%] 0.356 M,\t Left: 1523,\t Pruned Ratio: 28.62 %,\t Train Loss: 0.0683,\t Test Acc: 91.92\n",
      "Tocking:\n"
     ]
    },
    {
     "name": "stderr",
     "output_type": "stream",
     "text": [
      "100%|█████████████████████████████████████████████████████████████| 391/391 [00:27<00:00, 14.27it/s]\n",
      "  0%|                                                                       | 0/391 [00:00<?, ?it/s]"
     ]
    },
    {
     "name": "stdout",
     "output_type": "stream",
     "text": [
      "Tock - 0,\t Test Loss: 0.3215,\t Test Acc: 90.87, Final LR: 0.00280\n"
     ]
    },
    {
     "name": "stderr",
     "output_type": "stream",
     "text": [
      "100%|█████████████████████████████████████████████████████████████| 391/391 [00:32<00:00, 12.12it/s]\n",
      "  0%|                                                                       | 0/391 [00:00<?, ?it/s]"
     ]
    },
    {
     "name": "stdout",
     "output_type": "stream",
     "text": [
      "Tock - 1,\t Test Loss: 0.3962,\t Test Acc: 88.73, Final LR: 0.00460\n"
     ]
    },
    {
     "name": "stderr",
     "output_type": "stream",
     "text": [
      "100%|█████████████████████████████████████████████████████████████| 391/391 [00:30<00:00, 12.71it/s]\n",
      "  0%|                                                                       | 0/391 [00:00<?, ?it/s]"
     ]
    },
    {
     "name": "stdout",
     "output_type": "stream",
     "text": [
      "Tock - 2,\t Test Loss: 0.3961,\t Test Acc: 87.91, Final LR: 0.00640\n"
     ]
    },
    {
     "name": "stderr",
     "output_type": "stream",
     "text": [
      "100%|█████████████████████████████████████████████████████████████| 391/391 [00:32<00:00, 12.02it/s]\n",
      "  0%|                                                                       | 0/391 [00:00<?, ?it/s]"
     ]
    },
    {
     "name": "stdout",
     "output_type": "stream",
     "text": [
      "Tock - 3,\t Test Loss: 0.4850,\t Test Acc: 85.23, Final LR: 0.00820\n"
     ]
    },
    {
     "name": "stderr",
     "output_type": "stream",
     "text": [
      "100%|█████████████████████████████████████████████████████████████| 391/391 [00:31<00:00, 12.52it/s]\n",
      "  0%|                                                                       | 0/391 [00:00<?, ?it/s]"
     ]
    },
    {
     "name": "stdout",
     "output_type": "stream",
     "text": [
      "Tock - 4,\t Test Loss: 0.5588,\t Test Acc: 82.90, Final LR: 0.01000\n"
     ]
    },
    {
     "name": "stderr",
     "output_type": "stream",
     "text": [
      "100%|█████████████████████████████████████████████████████████████| 391/391 [00:27<00:00, 14.02it/s]\n",
      "  0%|                                                                       | 0/391 [00:00<?, ?it/s]"
     ]
    },
    {
     "name": "stdout",
     "output_type": "stream",
     "text": [
      "Tock - 5,\t Test Loss: 0.3542,\t Test Acc: 88.28, Final LR: 0.00820\n"
     ]
    },
    {
     "name": "stderr",
     "output_type": "stream",
     "text": [
      "100%|█████████████████████████████████████████████████████████████| 391/391 [00:31<00:00, 12.24it/s]\n",
      "  0%|                                                                       | 0/391 [00:00<?, ?it/s]"
     ]
    },
    {
     "name": "stdout",
     "output_type": "stream",
     "text": [
      "Tock - 6,\t Test Loss: 0.3670,\t Test Acc: 88.19, Final LR: 0.00640\n"
     ]
    },
    {
     "name": "stderr",
     "output_type": "stream",
     "text": [
      "100%|█████████████████████████████████████████████████████████████| 391/391 [00:31<00:00, 12.42it/s]\n",
      "  0%|                                                                       | 0/391 [00:00<?, ?it/s]"
     ]
    },
    {
     "name": "stdout",
     "output_type": "stream",
     "text": [
      "Tock - 7,\t Test Loss: 0.3046,\t Test Acc: 90.60, Final LR: 0.00460\n"
     ]
    },
    {
     "name": "stderr",
     "output_type": "stream",
     "text": [
      "100%|█████████████████████████████████████████████████████████████| 391/391 [00:30<00:00, 12.78it/s]\n",
      "  0%|                                                                       | 0/391 [00:00<?, ?it/s]"
     ]
    },
    {
     "name": "stdout",
     "output_type": "stream",
     "text": [
      "Tock - 8,\t Test Loss: 0.2589,\t Test Acc: 92.14, Final LR: 0.00280\n"
     ]
    },
    {
     "name": "stderr",
     "output_type": "stream",
     "text": [
      "100%|█████████████████████████████████████████████████████████████| 391/391 [00:31<00:00, 12.33it/s]\n",
      "  0%|                                                                       | 0/391 [00:00<?, ?it/s]"
     ]
    },
    {
     "name": "stdout",
     "output_type": "stream",
     "text": [
      "Tock - 9,\t Test Loss: 0.2496,\t Test Acc: 92.67, Final LR: 0.00100\n"
     ]
    },
    {
     "name": "stderr",
     "output_type": "stream",
     "text": [
      "100%|█████████████████████████████████████████████████████████████| 391/391 [00:28<00:00, 13.73it/s]\n",
      "  0%|                                                                       | 0/391 [00:00<?, ?it/s]"
     ]
    },
    {
     "name": "stdout",
     "output_type": "stream",
     "text": [
      "Iter: 130,\t FLOPS: [36.25%] 46.381 MFLOPS,\t Param: [41.23%] 0.353 M,\t Left: 1519,\t Pruned Ratio: 28.81 %,\t Train Loss: 0.0562,\t Test Acc: 92.64\n"
     ]
    },
    {
     "name": "stderr",
     "output_type": "stream",
     "text": [
      "100%|█████████████████████████████████████████████████████████████| 391/391 [00:27<00:00, 14.18it/s]\n",
      "  0%|                                                                       | 0/391 [00:00<?, ?it/s]"
     ]
    },
    {
     "name": "stdout",
     "output_type": "stream",
     "text": [
      "Iter: 131,\t FLOPS: [35.73%] 45.711 MFLOPS,\t Param: [40.93%] 0.350 M,\t Left: 1515,\t Pruned Ratio: 28.99 %,\t Train Loss: 0.0559,\t Test Acc: 92.27\n"
     ]
    },
    {
     "name": "stderr",
     "output_type": "stream",
     "text": [
      "100%|█████████████████████████████████████████████████████████████| 391/391 [00:28<00:00, 13.84it/s]\n",
      "  0%|                                                                       | 0/391 [00:00<?, ?it/s]"
     ]
    },
    {
     "name": "stdout",
     "output_type": "stream",
     "text": [
      "Iter: 132,\t FLOPS: [35.44%] 45.340 MFLOPS,\t Param: [40.46%] 0.346 M,\t Left: 1511,\t Pruned Ratio: 29.18 %,\t Train Loss: 0.0574,\t Test Acc: 92.10\n"
     ]
    },
    {
     "name": "stderr",
     "output_type": "stream",
     "text": [
      "100%|█████████████████████████████████████████████████████████████| 391/391 [00:27<00:00, 14.11it/s]\n",
      "  0%|                                                                       | 0/391 [00:00<?, ?it/s]"
     ]
    },
    {
     "name": "stdout",
     "output_type": "stream",
     "text": [
      "Iter: 133,\t FLOPS: [35.12%] 44.932 MFLOPS,\t Param: [40.07%] 0.343 M,\t Left: 1507,\t Pruned Ratio: 29.37 %,\t Train Loss: 0.0597,\t Test Acc: 92.46\n"
     ]
    },
    {
     "name": "stderr",
     "output_type": "stream",
     "text": [
      "100%|█████████████████████████████████████████████████████████████| 391/391 [00:26<00:00, 14.65it/s]\n",
      "  0%|                                                                       | 0/391 [00:00<?, ?it/s]"
     ]
    },
    {
     "name": "stdout",
     "output_type": "stream",
     "text": [
      "Iter: 134,\t FLOPS: [34.60%] 44.262 MFLOPS,\t Param: [39.76%] 0.340 M,\t Left: 1503,\t Pruned Ratio: 29.56 %,\t Train Loss: 0.0627,\t Test Acc: 92.02\n"
     ]
    },
    {
     "name": "stderr",
     "output_type": "stream",
     "text": [
      "100%|█████████████████████████████████████████████████████████████| 391/391 [00:28<00:00, 13.79it/s]\n",
      "  0%|                                                                       | 0/391 [00:00<?, ?it/s]"
     ]
    },
    {
     "name": "stdout",
     "output_type": "stream",
     "text": [
      "Iter: 135,\t FLOPS: [34.19%] 43.741 MFLOPS,\t Param: [39.33%] 0.337 M,\t Left: 1499,\t Pruned Ratio: 29.75 %,\t Train Loss: 0.0663,\t Test Acc: 91.90\n"
     ]
    },
    {
     "name": "stderr",
     "output_type": "stream",
     "text": [
      "100%|█████████████████████████████████████████████████████████████| 391/391 [00:28<00:00, 13.67it/s]\n",
      "  0%|                                                                       | 0/391 [00:00<?, ?it/s]"
     ]
    },
    {
     "name": "stdout",
     "output_type": "stream",
     "text": [
      "Iter: 136,\t FLOPS: [34.02%] 43.519 MFLOPS,\t Param: [38.92%] 0.333 M,\t Left: 1495,\t Pruned Ratio: 29.89 %,\t Train Loss: 0.0677,\t Test Acc: 92.22\n"
     ]
    },
    {
     "name": "stderr",
     "output_type": "stream",
     "text": [
      "100%|█████████████████████████████████████████████████████████████| 391/391 [00:27<00:00, 14.28it/s]\n",
      "  0%|                                                                       | 0/391 [00:00<?, ?it/s]"
     ]
    },
    {
     "name": "stdout",
     "output_type": "stream",
     "text": [
      "Iter: 137,\t FLOPS: [33.84%] 43.297 MFLOPS,\t Param: [38.52%] 0.330 M,\t Left: 1492,\t Pruned Ratio: 30.03 %,\t Train Loss: 0.0705,\t Test Acc: 92.04\n"
     ]
    },
    {
     "name": "stderr",
     "output_type": "stream",
     "text": [
      "100%|█████████████████████████████████████████████████████████████| 391/391 [00:28<00:00, 13.73it/s]\n",
      "  0%|                                                                       | 0/391 [00:00<?, ?it/s]"
     ]
    },
    {
     "name": "stdout",
     "output_type": "stream",
     "text": [
      "Iter: 138,\t FLOPS: [33.49%] 42.850 MFLOPS,\t Param: [38.21%] 0.327 M,\t Left: 1489,\t Pruned Ratio: 30.17 %,\t Train Loss: 0.0741,\t Test Acc: 91.01\n"
     ]
    },
    {
     "name": "stderr",
     "output_type": "stream",
     "text": [
      "100%|█████████████████████████████████████████████████████████████| 391/391 [00:23<00:00, 16.86it/s]\n",
      "  0%|                                                                       | 0/391 [00:00<?, ?it/s]"
     ]
    },
    {
     "name": "stdout",
     "output_type": "stream",
     "text": [
      "Iter: 139,\t FLOPS: [33.32%] 42.628 MFLOPS,\t Param: [37.81%] 0.324 M,\t Left: 1486,\t Pruned Ratio: 30.31 %,\t Train Loss: 0.0777,\t Test Acc: 91.96\n",
      "Tocking:\n"
     ]
    },
    {
     "name": "stderr",
     "output_type": "stream",
     "text": [
      "100%|█████████████████████████████████████████████████████████████| 391/391 [00:31<00:00, 12.49it/s]\n",
      "  0%|                                                                       | 0/391 [00:00<?, ?it/s]"
     ]
    },
    {
     "name": "stdout",
     "output_type": "stream",
     "text": [
      "Tock - 0,\t Test Loss: 0.2972,\t Test Acc: 91.29, Final LR: 0.00280\n"
     ]
    },
    {
     "name": "stderr",
     "output_type": "stream",
     "text": [
      "100%|█████████████████████████████████████████████████████████████| 391/391 [00:27<00:00, 14.03it/s]\n",
      "  0%|                                                                       | 0/391 [00:00<?, ?it/s]"
     ]
    },
    {
     "name": "stdout",
     "output_type": "stream",
     "text": [
      "Tock - 1,\t Test Loss: 0.4183,\t Test Acc: 87.54, Final LR: 0.00460\n"
     ]
    },
    {
     "name": "stderr",
     "output_type": "stream",
     "text": [
      "100%|█████████████████████████████████████████████████████████████| 391/391 [00:32<00:00, 12.21it/s]\n",
      "  0%|                                                                       | 0/391 [00:00<?, ?it/s]"
     ]
    },
    {
     "name": "stdout",
     "output_type": "stream",
     "text": [
      "Tock - 2,\t Test Loss: 0.4916,\t Test Acc: 85.76, Final LR: 0.00640\n"
     ]
    },
    {
     "name": "stderr",
     "output_type": "stream",
     "text": [
      "100%|█████████████████████████████████████████████████████████████| 391/391 [00:32<00:00, 12.14it/s]\n",
      "  0%|                                                                       | 0/391 [00:00<?, ?it/s]"
     ]
    },
    {
     "name": "stdout",
     "output_type": "stream",
     "text": [
      "Tock - 3,\t Test Loss: 0.4744,\t Test Acc: 85.49, Final LR: 0.00820\n"
     ]
    },
    {
     "name": "stderr",
     "output_type": "stream",
     "text": [
      "100%|█████████████████████████████████████████████████████████████| 391/391 [00:31<00:00, 12.37it/s]\n",
      "  0%|                                                                       | 0/391 [00:00<?, ?it/s]"
     ]
    },
    {
     "name": "stdout",
     "output_type": "stream",
     "text": [
      "Tock - 4,\t Test Loss: 0.5032,\t Test Acc: 83.95, Final LR: 0.01000\n"
     ]
    },
    {
     "name": "stderr",
     "output_type": "stream",
     "text": [
      "100%|█████████████████████████████████████████████████████████████| 391/391 [00:32<00:00, 11.94it/s]\n",
      "  0%|                                                                       | 0/391 [00:00<?, ?it/s]"
     ]
    },
    {
     "name": "stdout",
     "output_type": "stream",
     "text": [
      "Tock - 5,\t Test Loss: 0.3910,\t Test Acc: 87.74, Final LR: 0.00820\n"
     ]
    },
    {
     "name": "stderr",
     "output_type": "stream",
     "text": [
      "100%|█████████████████████████████████████████████████████████████| 391/391 [00:32<00:00, 12.15it/s]\n",
      "  0%|                                                                       | 0/391 [00:00<?, ?it/s]"
     ]
    },
    {
     "name": "stdout",
     "output_type": "stream",
     "text": [
      "Tock - 6,\t Test Loss: 0.3585,\t Test Acc: 88.88, Final LR: 0.00640\n"
     ]
    },
    {
     "name": "stderr",
     "output_type": "stream",
     "text": [
      "100%|█████████████████████████████████████████████████████████████| 391/391 [00:30<00:00, 12.65it/s]\n",
      "  0%|                                                                       | 0/391 [00:00<?, ?it/s]"
     ]
    },
    {
     "name": "stdout",
     "output_type": "stream",
     "text": [
      "Tock - 7,\t Test Loss: 0.3384,\t Test Acc: 89.82, Final LR: 0.00460\n"
     ]
    },
    {
     "name": "stderr",
     "output_type": "stream",
     "text": [
      "100%|█████████████████████████████████████████████████████████████| 391/391 [00:31<00:00, 12.30it/s]\n",
      "  0%|                                                                       | 0/391 [00:00<?, ?it/s]"
     ]
    },
    {
     "name": "stdout",
     "output_type": "stream",
     "text": [
      "Tock - 8,\t Test Loss: 0.2782,\t Test Acc: 92.01, Final LR: 0.00280\n"
     ]
    },
    {
     "name": "stderr",
     "output_type": "stream",
     "text": [
      "100%|█████████████████████████████████████████████████████████████| 391/391 [00:32<00:00, 12.11it/s]\n",
      "  0%|                                                                       | 0/391 [00:00<?, ?it/s]"
     ]
    },
    {
     "name": "stdout",
     "output_type": "stream",
     "text": [
      "Tock - 9,\t Test Loss: 0.2523,\t Test Acc: 92.37, Final LR: 0.00100\n"
     ]
    },
    {
     "name": "stderr",
     "output_type": "stream",
     "text": [
      "100%|█████████████████████████████████████████████████████████████| 391/391 [00:26<00:00, 14.50it/s]\n",
      "  0%|                                                                       | 0/391 [00:00<?, ?it/s]"
     ]
    },
    {
     "name": "stdout",
     "output_type": "stream",
     "text": [
      "Iter: 140,\t FLOPS: [32.86%] 42.032 MFLOPS,\t Param: [37.64%] 0.322 M,\t Left: 1483,\t Pruned Ratio: 30.45 %,\t Train Loss: 0.0619,\t Test Acc: 92.65\n"
     ]
    },
    {
     "name": "stderr",
     "output_type": "stream",
     "text": [
      "100%|█████████████████████████████████████████████████████████████| 391/391 [00:28<00:00, 13.77it/s]\n",
      "  0%|                                                                       | 0/391 [00:00<?, ?it/s]"
     ]
    },
    {
     "name": "stdout",
     "output_type": "stream",
     "text": [
      "Iter: 141,\t FLOPS: [32.51%] 41.585 MFLOPS,\t Param: [37.34%] 0.320 M,\t Left: 1480,\t Pruned Ratio: 30.59 %,\t Train Loss: 0.0606,\t Test Acc: 92.50\n"
     ]
    },
    {
     "name": "stderr",
     "output_type": "stream",
     "text": [
      "100%|█████████████████████████████████████████████████████████████| 391/391 [00:28<00:00, 13.84it/s]\n",
      "  0%|                                                                       | 0/391 [00:00<?, ?it/s]"
     ]
    },
    {
     "name": "stdout",
     "output_type": "stream",
     "text": [
      "Iter: 142,\t FLOPS: [32.16%] 41.138 MFLOPS,\t Param: [37.03%] 0.317 M,\t Left: 1477,\t Pruned Ratio: 30.73 %,\t Train Loss: 0.0671,\t Test Acc: 92.09\n"
     ]
    },
    {
     "name": "stderr",
     "output_type": "stream",
     "text": [
      "100%|█████████████████████████████████████████████████████████████| 391/391 [00:27<00:00, 14.30it/s]\n",
      "  0%|                                                                       | 0/391 [00:00<?, ?it/s]"
     ]
    },
    {
     "name": "stdout",
     "output_type": "stream",
     "text": [
      "Iter: 143,\t FLOPS: [31.98%] 40.917 MFLOPS,\t Param: [36.63%] 0.313 M,\t Left: 1474,\t Pruned Ratio: 30.87 %,\t Train Loss: 0.0698,\t Test Acc: 92.36\n"
     ]
    },
    {
     "name": "stderr",
     "output_type": "stream",
     "text": [
      "100%|█████████████████████████████████████████████████████████████| 391/391 [00:28<00:00, 13.70it/s]\n",
      "  0%|                                                                       | 0/391 [00:00<?, ?it/s]"
     ]
    },
    {
     "name": "stdout",
     "output_type": "stream",
     "text": [
      "Iter: 144,\t FLOPS: [31.75%] 40.620 MFLOPS,\t Param: [36.29%] 0.311 M,\t Left: 1471,\t Pruned Ratio: 31.02 %,\t Train Loss: 0.0722,\t Test Acc: 92.08\n"
     ]
    },
    {
     "name": "stderr",
     "output_type": "stream",
     "text": [
      "100%|█████████████████████████████████████████████████████████████| 391/391 [00:27<00:00, 14.24it/s]\n",
      "  0%|                                                                       | 0/391 [00:00<?, ?it/s]"
     ]
    },
    {
     "name": "stdout",
     "output_type": "stream",
     "text": [
      "Iter: 145,\t FLOPS: [31.52%] 40.324 MFLOPS,\t Param: [35.95%] 0.308 M,\t Left: 1468,\t Pruned Ratio: 31.16 %,\t Train Loss: 0.0746,\t Test Acc: 91.86\n"
     ]
    },
    {
     "name": "stderr",
     "output_type": "stream",
     "text": [
      "100%|█████████████████████████████████████████████████████████████| 391/391 [00:28<00:00, 13.93it/s]\n",
      "  0%|                                                                       | 0/391 [00:00<?, ?it/s]"
     ]
    },
    {
     "name": "stdout",
     "output_type": "stream",
     "text": [
      "Iter: 146,\t FLOPS: [31.35%] 40.102 MFLOPS,\t Param: [35.55%] 0.304 M,\t Left: 1465,\t Pruned Ratio: 31.30 %,\t Train Loss: 0.0771,\t Test Acc: 91.61\n"
     ]
    },
    {
     "name": "stderr",
     "output_type": "stream",
     "text": [
      "100%|█████████████████████████████████████████████████████████████| 391/391 [00:27<00:00, 14.37it/s]\n",
      "  0%|                                                                       | 0/391 [00:00<?, ?it/s]"
     ]
    },
    {
     "name": "stdout",
     "output_type": "stream",
     "text": [
      "Iter: 147,\t FLOPS: [31.11%] 39.805 MFLOPS,\t Param: [35.21%] 0.301 M,\t Left: 1462,\t Pruned Ratio: 31.44 %,\t Train Loss: 0.0801,\t Test Acc: 91.96\n"
     ]
    },
    {
     "name": "stderr",
     "output_type": "stream",
     "text": [
      "100%|█████████████████████████████████████████████████████████████| 391/391 [00:22<00:00, 17.35it/s]\n",
      "  0%|                                                                       | 0/391 [00:00<?, ?it/s]"
     ]
    },
    {
     "name": "stdout",
     "output_type": "stream",
     "text": [
      "Iter: 148,\t FLOPS: [30.94%] 39.583 MFLOPS,\t Param: [34.81%] 0.298 M,\t Left: 1459,\t Pruned Ratio: 31.58 %,\t Train Loss: 0.0829,\t Test Acc: 91.70\n"
     ]
    },
    {
     "name": "stderr",
     "output_type": "stream",
     "text": [
      "100%|█████████████████████████████████████████████████████████████| 391/391 [00:27<00:00, 14.08it/s]\n",
      "  0%|                                                                       | 0/391 [00:00<?, ?it/s]"
     ]
    },
    {
     "name": "stdout",
     "output_type": "stream",
     "text": [
      "Iter: 149,\t FLOPS: [30.71%] 39.287 MFLOPS,\t Param: [34.47%] 0.295 M,\t Left: 1456,\t Pruned Ratio: 31.72 %,\t Train Loss: 0.0846,\t Test Acc: 91.30\n",
      "Tocking:\n"
     ]
    },
    {
     "name": "stderr",
     "output_type": "stream",
     "text": [
      "100%|█████████████████████████████████████████████████████████████| 391/391 [00:31<00:00, 12.46it/s]\n",
      "  0%|                                                                       | 0/391 [00:00<?, ?it/s]"
     ]
    },
    {
     "name": "stdout",
     "output_type": "stream",
     "text": [
      "Tock - 0,\t Test Loss: 0.3172,\t Test Acc: 90.78, Final LR: 0.00280\n"
     ]
    },
    {
     "name": "stderr",
     "output_type": "stream",
     "text": [
      "100%|█████████████████████████████████████████████████████████████| 391/391 [00:31<00:00, 12.49it/s]\n",
      "  0%|                                                                       | 0/391 [00:00<?, ?it/s]"
     ]
    },
    {
     "name": "stdout",
     "output_type": "stream",
     "text": [
      "Tock - 1,\t Test Loss: 0.3376,\t Test Acc: 89.65, Final LR: 0.00460\n"
     ]
    },
    {
     "name": "stderr",
     "output_type": "stream",
     "text": [
      "100%|█████████████████████████████████████████████████████████████| 391/391 [00:32<00:00, 12.11it/s]\n",
      "  0%|                                                                       | 0/391 [00:00<?, ?it/s]"
     ]
    },
    {
     "name": "stdout",
     "output_type": "stream",
     "text": [
      "Tock - 2,\t Test Loss: 0.3992,\t Test Acc: 87.93, Final LR: 0.00640\n"
     ]
    },
    {
     "name": "stderr",
     "output_type": "stream",
     "text": [
      "100%|█████████████████████████████████████████████████████████████| 391/391 [00:32<00:00, 12.00it/s]\n",
      "  0%|                                                                       | 0/391 [00:00<?, ?it/s]"
     ]
    },
    {
     "name": "stdout",
     "output_type": "stream",
     "text": [
      "Tock - 3,\t Test Loss: 0.4410,\t Test Acc: 86.28, Final LR: 0.00820\n"
     ]
    },
    {
     "name": "stderr",
     "output_type": "stream",
     "text": [
      "100%|█████████████████████████████████████████████████████████████| 391/391 [00:33<00:00, 11.80it/s]\n",
      "  0%|                                                                       | 0/391 [00:00<?, ?it/s]"
     ]
    },
    {
     "name": "stdout",
     "output_type": "stream",
     "text": [
      "Tock - 4,\t Test Loss: 0.3918,\t Test Acc: 87.52, Final LR: 0.01000\n"
     ]
    },
    {
     "name": "stderr",
     "output_type": "stream",
     "text": [
      "100%|█████████████████████████████████████████████████████████████| 391/391 [00:28<00:00, 13.49it/s]\n",
      "  0%|                                                                       | 0/391 [00:00<?, ?it/s]"
     ]
    },
    {
     "name": "stdout",
     "output_type": "stream",
     "text": [
      "Tock - 5,\t Test Loss: 0.4218,\t Test Acc: 86.79, Final LR: 0.00820\n"
     ]
    },
    {
     "name": "stderr",
     "output_type": "stream",
     "text": [
      "100%|█████████████████████████████████████████████████████████████| 391/391 [00:27<00:00, 14.06it/s]\n",
      "  0%|                                                                       | 0/391 [00:00<?, ?it/s]"
     ]
    },
    {
     "name": "stdout",
     "output_type": "stream",
     "text": [
      "Tock - 6,\t Test Loss: 0.3140,\t Test Acc: 90.04, Final LR: 0.00640\n"
     ]
    },
    {
     "name": "stderr",
     "output_type": "stream",
     "text": [
      "100%|█████████████████████████████████████████████████████████████| 391/391 [00:30<00:00, 12.90it/s]\n",
      "  0%|                                                                       | 0/391 [00:00<?, ?it/s]"
     ]
    },
    {
     "name": "stdout",
     "output_type": "stream",
     "text": [
      "Tock - 7,\t Test Loss: 0.3076,\t Test Acc: 90.80, Final LR: 0.00460\n"
     ]
    },
    {
     "name": "stderr",
     "output_type": "stream",
     "text": [
      "100%|█████████████████████████████████████████████████████████████| 391/391 [00:27<00:00, 14.13it/s]\n",
      "  0%|                                                                       | 0/391 [00:00<?, ?it/s]"
     ]
    },
    {
     "name": "stdout",
     "output_type": "stream",
     "text": [
      "Tock - 8,\t Test Loss: 0.2789,\t Test Acc: 91.55, Final LR: 0.00280\n"
     ]
    },
    {
     "name": "stderr",
     "output_type": "stream",
     "text": [
      "100%|█████████████████████████████████████████████████████████████| 391/391 [00:32<00:00, 12.10it/s]\n",
      "  0%|                                                                       | 0/391 [00:00<?, ?it/s]"
     ]
    },
    {
     "name": "stdout",
     "output_type": "stream",
     "text": [
      "Tock - 9,\t Test Loss: 0.2499,\t Test Acc: 92.36, Final LR: 0.00100\n"
     ]
    },
    {
     "name": "stderr",
     "output_type": "stream",
     "text": [
      "100%|█████████████████████████████████████████████████████████████| 391/391 [00:23<00:00, 16.92it/s]\n",
      "  0%|                                                                       | 0/391 [00:00<?, ?it/s]"
     ]
    },
    {
     "name": "stdout",
     "output_type": "stream",
     "text": [
      "Iter: 150,\t FLOPS: [30.54%] 39.065 MFLOPS,\t Param: [34.06%] 0.292 M,\t Left: 1453,\t Pruned Ratio: 31.86 %,\t Train Loss: 0.0672,\t Test Acc: 92.40\n"
     ]
    },
    {
     "name": "stderr",
     "output_type": "stream",
     "text": [
      "100%|█████████████████████████████████████████████████████████████| 391/391 [00:28<00:00, 13.87it/s]\n",
      "  0%|                                                                       | 0/391 [00:00<?, ?it/s]"
     ]
    },
    {
     "name": "stdout",
     "output_type": "stream",
     "text": [
      "Iter: 151,\t FLOPS: [30.36%] 38.843 MFLOPS,\t Param: [33.66%] 0.288 M,\t Left: 1450,\t Pruned Ratio: 32.00 %,\t Train Loss: 0.0705,\t Test Acc: 91.84\n"
     ]
    },
    {
     "name": "stderr",
     "output_type": "stream",
     "text": [
      "100%|█████████████████████████████████████████████████████████████| 391/391 [00:28<00:00, 13.82it/s]\n"
     ]
    },
    {
     "name": "stdout",
     "output_type": "stream",
     "text": [
      "Iter: 152,\t FLOPS: [29.95%] 38.321 MFLOPS,\t Param: [33.42%] 0.286 M,\t Left: 1447,\t Pruned Ratio: 32.14 %,\t Train Loss: 0.0747,\t Test Acc: 91.79\n"
     ]
    }
   ],
   "source": [
    "LOGS = []\n",
    "flops_save_points = set([40, 38, 35, 32, 30])\n",
    "\n",
    "iter_idx = 0\n",
    "prune_agent.tock(lr_min=cfg.gbn.lr_min, lr_max=cfg.gbn.lr_max, tock_epoch=cfg.gbn.tock_epoch)\n",
    "while True:\n",
    "    left_filter = prune_agent.total_filters - prune_agent.pruned_filters\n",
    "    num_to_prune = int(left_filter * cfg.gbn.p)\n",
    "    info = prune_agent.prune(num_to_prune, tick=True, lr=cfg.gbn.lr_min)\n",
    "    flops, params = eval_prune(pack)\n",
    "    info.update({\n",
    "        'flops': '[%.2f%%] %.3f MFLOPS' % (flops/BASE_FLOPS * 100, flops / 1e6),\n",
    "        'param': '[%.2f%%] %.3f M' % (params/BASE_PARAM * 100, params / 1e6)\n",
    "    })\n",
    "    LOGS.append(info)\n",
    "    print('Iter: %d,\\t FLOPS: %s,\\t Param: %s,\\t Left: %d,\\t Pruned Ratio: %.2f %%,\\t Train Loss: %.4f,\\t Test Acc: %.2f' % \n",
    "          (iter_idx, info['flops'], info['param'], info['left'], info['total_pruned_ratio'] * 100, info['train_loss'], info['after_prune_test_acc']))\n",
    "    \n",
    "    iter_idx += 1\n",
    "    if iter_idx % cfg.gbn.T == 0:\n",
    "        print('Tocking:')\n",
    "        prune_agent.tock(lr_min=cfg.gbn.lr_min, lr_max=cfg.gbn.lr_max, tock_epoch=cfg.gbn.tock_epoch)\n",
    "\n",
    "    flops_ratio = flops/BASE_FLOPS * 100\n",
    "    for point in [i for i in list(flops_save_points)]:\n",
    "        if flops_ratio <= point:\n",
    "            torch.save(pack.net.module.state_dict(), './logs/resnet56_cifar10_ticktock/%s.ckp' % str(point))\n",
    "            flops_save_points.remove(point)\n",
    "\n",
    "    if len(flops_save_points) == 0:\n",
    "        break"
   ]
  },
  {
   "cell_type": "markdown",
   "metadata": {},
   "source": [
    "### You can see how to fine-tune and get the pruned network in the finetune.ipynb"
   ]
  },
  {
   "cell_type": "code",
   "execution_count": null,
   "metadata": {},
   "outputs": [],
   "source": []
  }
 ],
 "metadata": {
  "kernelspec": {
   "display_name": "Pytorch1.0",
   "language": "python",
   "name": "pytorch1"
  },
  "language_info": {
   "codemirror_mode": {
    "name": "ipython",
    "version": 3
   },
   "file_extension": ".py",
   "mimetype": "text/x-python",
   "name": "python",
   "nbconvert_exporter": "python",
   "pygments_lexer": "ipython3",
   "version": "3.7.4"
  }
 },
 "nbformat": 4,
 "nbformat_minor": 2
}
